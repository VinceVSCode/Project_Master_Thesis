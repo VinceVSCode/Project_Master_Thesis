{
 "cells": [
  {
   "cell_type": "markdown",
   "metadata": {},
   "source": [
    "## Video convertion into frames part of the programm using Open-CV"
   ]
  },
  {
   "cell_type": "code",
   "execution_count": 2,
   "metadata": {},
   "outputs": [],
   "source": [
    "import cv2 \n",
    "import os\n",
    "\n",
    "def saveVideo_asFrames(video_path,dir_path,basename,ext='jpg'):\n",
    "    \"\"\"\n",
    "    This function will take a video input and save it as frame by frame array.\n",
    "    Takes as inputs video path, dir_path for output, basename and converts the frame to the desired \"extension\" type.\n",
    "    frame = 'basename'_'number'.'extension'\n",
    "    \"\"\"\n",
    "    #create the \"Capturing object\" as cap\n",
    "    cap = cv2.VideoCapture(video_path)\n",
    "\n",
    "    #return statement in case of failure\n",
    "    if not cap.isOpened():\n",
    "        print(\"Fail to open capture object!!\\n\")\n",
    "        return\n",
    "    \n",
    "    #create dir for the frames\n",
    "\n",
    "    os.makedirs(dir_path,exist_ok= True)\n",
    "\n",
    "    base_path = os.path.join(dir_path, basename)\n",
    "\n",
    "    frame_num_len = len(str(int(cap.get(cv2.CAP_PROP_FRAME_COUNT))))\n",
    "    print(f\"Frames are: {int(cap.get(cv2.CAP_PROP_FRAME_COUNT))}\")\n",
    "    \n",
    "    for i in range(int(cap.get(cv2.CAP_PROP_FRAME_COUNT))):\n",
    "        ret, frame =cap.read()\n",
    "        if ret:\n",
    "            cv2.imwrite('{}_{}.{}'.format(base_path,\n",
    "                                        str(i).zfill(frame_num_len),\n",
    "                                        ext), frame)\n",
    "        else:\n",
    "            print(\"End of frames! Returning! \\n\")\n",
    "            return\n",
    "\n",
    "\n",
    "\n"
   ]
  },
  {
   "cell_type": "code",
   "execution_count": 3,
   "metadata": {},
   "outputs": [
    {
     "name": "stdout",
     "output_type": "stream",
     "text": [
      "Frames are: 1770\n"
     ]
    }
   ],
   "source": [
    "#Test for a single video\n",
    "saveVideo_asFrames('Test_Video\\sample_vid_image.mp4','Test_Frames','sample_vid_frame')"
   ]
  },
  {
   "cell_type": "markdown",
   "metadata": {},
   "source": [
    "### Going through all the videos in the Test_Video \n",
    "So in our case we want our file to iterate through all the videos and make them into frames.\n"
   ]
  },
  {
   "cell_type": "code",
   "execution_count": 11,
   "metadata": {},
   "outputs": [
    {
     "name": "stdout",
     "output_type": "stream",
     "text": [
      "Test_Video\\sample_vid_image.mp4 <DirEntry 'sample_vid_image.mp4'> Test_Frames sample_vid_image\n",
      "Test_Video\\sample_vid_image1.mp4 <DirEntry 'sample_vid_image1.mp4'> Test_Frames sample_vid_image1\n"
     ]
    }
   ],
   "source": [
    "vid_dir = 'Test_Video'\n",
    "\n",
    "#iterate over files in the test_vid\n",
    "from pathlib import Path\n",
    "print(\"Converting all test videos to frames... \\n\")\n",
    "for filepath in os.scandir(vid_dir):\n",
    "    if filepath.is_file():\n",
    "        #see what the code part is seeing\n",
    "        #print(filepath,'Test_Frames',Path(filepath).stem)\n",
    "        #saveVideo_asFrames(filepath,'Test_Frames',Path(filepath).stem)"
   ]
  }
 ],
 "metadata": {
  "kernelspec": {
   "display_name": "Python 3",
   "language": "python",
   "name": "python3"
  },
  "language_info": {
   "codemirror_mode": {
    "name": "ipython",
    "version": 3
   },
   "file_extension": ".py",
   "mimetype": "text/x-python",
   "name": "python",
   "nbconvert_exporter": "python",
   "pygments_lexer": "ipython3",
   "version": "3.10.0"
  },
  "orig_nbformat": 4
 },
 "nbformat": 4,
 "nbformat_minor": 2
}
