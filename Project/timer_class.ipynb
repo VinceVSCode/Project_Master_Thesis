{
 "cells": [
  {
   "cell_type": "markdown",
   "metadata": {},
   "source": [
    "# Create a Timer Class"
   ]
  },
  {
   "cell_type": "code",
   "execution_count": 1,
   "metadata": {},
   "outputs": [],
   "source": [
    "#timer_class.py\n",
    "\n",
    "import time\n",
    "\n",
    "class TimerError(Exception):\n",
    "    \"\"\"Simple exception handling function\"\"\"\n",
    "\n",
    "class Timer:\n",
    "    def __init__(self, textout=\"Elapsed time is: {:0.2f} seconds\"):\n",
    "        self._start_time = None\n",
    "        self.textout = textout\n",
    "\n",
    "    def start(self):\n",
    "        \"\"\"\"Start a new timer here\"\"\"\n",
    "        if self._start_time is not None:\n",
    "            raise TimerError(f\"Timer is running. Use .stop() to stop it\")\n",
    "        \n",
    "        self._start_time = time.perf_counter()\n",
    "    \n",
    "    def stop(self):\n",
    "        \"\"\"Stop timer, print the time captured\"\"\"\n",
    "        if self._start_time is None:\n",
    "            raise TimerError(f\"The Timer hasn't started yet. Use .start()\")\n",
    "        \n",
    "        elapsed_time = time.perf_counter() - self._start_time\n",
    "        #Reset Timer and print\n",
    "        self._start_time = None\n",
    "        print(self.textout.format(elapsed_time))"
   ]
  }
 ],
 "metadata": {
  "kernelspec": {
   "display_name": "Python 3",
   "language": "python",
   "name": "python3"
  },
  "language_info": {
   "codemirror_mode": {
    "name": "ipython",
    "version": 3
   },
   "file_extension": ".py",
   "mimetype": "text/x-python",
   "name": "python",
   "nbconvert_exporter": "python",
   "pygments_lexer": "ipython3",
   "version": "3.10.0"
  },
  "orig_nbformat": 4
 },
 "nbformat": 4,
 "nbformat_minor": 2
}
