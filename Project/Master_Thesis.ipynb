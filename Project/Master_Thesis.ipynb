{
 "cells": [
  {
   "cell_type": "markdown",
   "metadata": {},
   "source": [
    "# Automatic Recognition of Vehicles at Intersections and Update of Moving Vehicles\n",
    " \n"
   ]
  },
  {
   "cell_type": "markdown",
   "metadata": {},
   "source": [
    "### Monitoring Execution\n",
    "Using the time library we will monitor our programms execution."
   ]
  },
  {
   "cell_type": "code",
   "execution_count": 1,
   "metadata": {},
   "outputs": [
    {
     "ename": "ModuleNotFoundError",
     "evalue": "No module named 'nbformat'",
     "output_type": "error",
     "traceback": [
      "\u001b[1;31m---------------------------------------------------------------------------\u001b[0m",
      "\u001b[1;31mModuleNotFoundError\u001b[0m                       Traceback (most recent call last)",
      "Cell \u001b[1;32mIn[1], line 2\u001b[0m\n\u001b[0;32m      1\u001b[0m \u001b[39m#Start counting the time execution of our programm.\u001b[39;00m\n\u001b[1;32m----> 2\u001b[0m get_ipython()\u001b[39m.\u001b[39;49mrun_line_magic(\u001b[39m'\u001b[39;49m\u001b[39mrun\u001b[39;49m\u001b[39m'\u001b[39;49m, \u001b[39m'\u001b[39;49m\u001b[39mtimer_class.ipynb\u001b[39;49m\u001b[39m'\u001b[39;49m)\n\u001b[0;32m      3\u001b[0m timer \u001b[39m=\u001b[39m Timer()\n\u001b[0;32m      4\u001b[0m timer\u001b[39m.\u001b[39mstart()\n",
      "File \u001b[1;32mc:\\Users\\Dellicious\\Desktop\\pythonFold\\Bookstores Project\\Project_Master_Thesis\\.venv\\Lib\\site-packages\\IPython\\core\\interactiveshell.py:2417\u001b[0m, in \u001b[0;36mInteractiveShell.run_line_magic\u001b[1;34m(self, magic_name, line, _stack_depth)\u001b[0m\n\u001b[0;32m   2415\u001b[0m     kwargs[\u001b[39m'\u001b[39m\u001b[39mlocal_ns\u001b[39m\u001b[39m'\u001b[39m] \u001b[39m=\u001b[39m \u001b[39mself\u001b[39m\u001b[39m.\u001b[39mget_local_scope(stack_depth)\n\u001b[0;32m   2416\u001b[0m \u001b[39mwith\u001b[39;00m \u001b[39mself\u001b[39m\u001b[39m.\u001b[39mbuiltin_trap:\n\u001b[1;32m-> 2417\u001b[0m     result \u001b[39m=\u001b[39m fn(\u001b[39m*\u001b[39;49margs, \u001b[39m*\u001b[39;49m\u001b[39m*\u001b[39;49mkwargs)\n\u001b[0;32m   2419\u001b[0m \u001b[39m# The code below prevents the output from being displayed\u001b[39;00m\n\u001b[0;32m   2420\u001b[0m \u001b[39m# when using magics with decodator @output_can_be_silenced\u001b[39;00m\n\u001b[0;32m   2421\u001b[0m \u001b[39m# when the last Python token in the expression is a ';'.\u001b[39;00m\n\u001b[0;32m   2422\u001b[0m \u001b[39mif\u001b[39;00m \u001b[39mgetattr\u001b[39m(fn, magic\u001b[39m.\u001b[39mMAGIC_OUTPUT_CAN_BE_SILENCED, \u001b[39mFalse\u001b[39;00m):\n",
      "File \u001b[1;32mc:\\Users\\Dellicious\\Desktop\\pythonFold\\Bookstores Project\\Project_Master_Thesis\\.venv\\Lib\\site-packages\\IPython\\core\\magics\\execution.py:722\u001b[0m, in \u001b[0;36mExecutionMagics.run\u001b[1;34m(self, parameter_s, runner, file_finder)\u001b[0m\n\u001b[0;32m    720\u001b[0m     \u001b[39mwith\u001b[39;00m preserve_keys(\u001b[39mself\u001b[39m\u001b[39m.\u001b[39mshell\u001b[39m.\u001b[39muser_ns, \u001b[39m'\u001b[39m\u001b[39m__file__\u001b[39m\u001b[39m'\u001b[39m):\n\u001b[0;32m    721\u001b[0m         \u001b[39mself\u001b[39m\u001b[39m.\u001b[39mshell\u001b[39m.\u001b[39muser_ns[\u001b[39m'\u001b[39m\u001b[39m__file__\u001b[39m\u001b[39m'\u001b[39m] \u001b[39m=\u001b[39m filename\n\u001b[1;32m--> 722\u001b[0m         \u001b[39mself\u001b[39;49m\u001b[39m.\u001b[39;49mshell\u001b[39m.\u001b[39;49msafe_execfile_ipy(filename, raise_exceptions\u001b[39m=\u001b[39;49m\u001b[39mTrue\u001b[39;49;00m)\n\u001b[0;32m    723\u001b[0m     \u001b[39mreturn\u001b[39;00m\n\u001b[0;32m    725\u001b[0m \u001b[39m# Control the response to exit() calls made by the script being run\u001b[39;00m\n",
      "File \u001b[1;32mc:\\Users\\Dellicious\\Desktop\\pythonFold\\Bookstores Project\\Project_Master_Thesis\\.venv\\Lib\\site-packages\\IPython\\core\\interactiveshell.py:2936\u001b[0m, in \u001b[0;36mInteractiveShell.safe_execfile_ipy\u001b[1;34m(self, fname, shell_futures, raise_exceptions)\u001b[0m\n\u001b[0;32m   2934\u001b[0m \u001b[39mwith\u001b[39;00m prepended_to_syspath(dname):\n\u001b[0;32m   2935\u001b[0m     \u001b[39mtry\u001b[39;00m:\n\u001b[1;32m-> 2936\u001b[0m         \u001b[39mfor\u001b[39;00m cell \u001b[39min\u001b[39;00m get_cells():\n\u001b[0;32m   2937\u001b[0m             result \u001b[39m=\u001b[39m \u001b[39mself\u001b[39m\u001b[39m.\u001b[39mrun_cell(cell, silent\u001b[39m=\u001b[39m\u001b[39mTrue\u001b[39;00m, shell_futures\u001b[39m=\u001b[39mshell_futures)\n\u001b[0;32m   2938\u001b[0m             \u001b[39mif\u001b[39;00m raise_exceptions:\n",
      "File \u001b[1;32mc:\\Users\\Dellicious\\Desktop\\pythonFold\\Bookstores Project\\Project_Master_Thesis\\.venv\\Lib\\site-packages\\IPython\\core\\interactiveshell.py:2924\u001b[0m, in \u001b[0;36mInteractiveShell.safe_execfile_ipy.<locals>.get_cells\u001b[1;34m()\u001b[0m\n\u001b[0;32m   2922\u001b[0m \u001b[39m\u001b[39m\u001b[39m\"\"\"generator for sequence of code blocks to run\"\"\"\u001b[39;00m\n\u001b[0;32m   2923\u001b[0m \u001b[39mif\u001b[39;00m fname\u001b[39m.\u001b[39msuffix \u001b[39m==\u001b[39m \u001b[39m\"\u001b[39m\u001b[39m.ipynb\u001b[39m\u001b[39m\"\u001b[39m:\n\u001b[1;32m-> 2924\u001b[0m     \u001b[39mfrom\u001b[39;00m \u001b[39mnbformat\u001b[39;00m \u001b[39mimport\u001b[39;00m read\n\u001b[0;32m   2925\u001b[0m     nb \u001b[39m=\u001b[39m read(fname, as_version\u001b[39m=\u001b[39m\u001b[39m4\u001b[39m)\n\u001b[0;32m   2926\u001b[0m     \u001b[39mif\u001b[39;00m \u001b[39mnot\u001b[39;00m nb\u001b[39m.\u001b[39mcells:\n",
      "\u001b[1;31mModuleNotFoundError\u001b[0m: No module named 'nbformat'"
     ]
    }
   ],
   "source": [
    "#Start counting the time execution of our programm.\n",
    "%run timer_class.ipynb\n",
    "timer = Timer()\n",
    "timer.start()"
   ]
  },
  {
   "cell_type": "markdown",
   "metadata": {},
   "source": [
    "Firstly, we will create a function that will check the existense of all necessary libraries.So as to ensure a stable execution of our programm."
   ]
  },
  {
   "cell_type": "code",
   "execution_count": null,
   "metadata": {},
   "outputs": [],
   "source": [
    "%pip freeze >requirements.txt\n",
    "%pip install -r requirements.txt"
   ]
  },
  {
   "cell_type": "code",
   "execution_count": null,
   "metadata": {},
   "outputs": [],
   "source": [
    "import sys \n",
    "import os\n",
    "\n",
    "import numpy as np\n",
    "import cv2 as cv\n",
    "import tensorflow as tf\n",
    "import matplotlib\n",
    "import matplotlib.pyplot as plt\n",
    "import pandas as pd\n",
    "import skimage.io\n",
    "import cython\n",
    "import random\n",
    "import keras\n",
    "import h5py\n",
    "import pycocotools"
   ]
  },
  {
   "cell_type": "code",
   "execution_count": null,
   "metadata": {},
   "outputs": [],
   "source": [
    "print(tf.__version__)\n",
    "print(keras.__version__)"
   ]
  },
  {
   "cell_type": "code",
   "execution_count": null,
   "metadata": {},
   "outputs": [],
   "source": [
    "#Now we are sure for the existence of the libraries. We can safely proceed with importing them.\n",
    "# import numpy as np\n",
    "# import cv2 \n",
    "# import tensorflow as tf\n",
    "# import matplotlib as plt\n",
    "# import pandas as pd\n",
    "\n",
    "\n",
    "import warnings \n",
    "warnings.filterwarnings(\"ignore\")\n"
   ]
  },
  {
   "cell_type": "code",
   "execution_count": null,
   "metadata": {},
   "outputs": [],
   "source": [
    "#Stop counting time see how much time it took for the libraries to get imported.\n",
    "timer.stop()"
   ]
  },
  {
   "cell_type": "code",
   "execution_count": null,
   "metadata": {},
   "outputs": [],
   "source": [
    "#Have a variable keep the root dir of the project and one for the current directory.\n",
    "root_dir = os.path.abspath(\"../\")\n",
    "cur_dir = os.getcwd()\n",
    "root_dir,cur_dir"
   ]
  },
  {
   "cell_type": "code",
   "execution_count": null,
   "metadata": {},
   "outputs": [],
   "source": [
    "#Import the Mask RCNN 2.1 using the local version we downloaded from github\n",
    "lib_path = os.path.join(root_dir,\"mrcnn\")\n",
    "#print (f\"mrcnn path: {lib_path} \")\n",
    "sys.path.insert(1,lib_path) \n",
    "import utils\n",
    "import model as modellib\n",
    "import visualize\n"
   ]
  },
  {
   "cell_type": "code",
   "execution_count": null,
   "metadata": {},
   "outputs": [],
   "source": [
    "#Import the coco directory\n",
    "import coco\n",
    "%matplotlib inline"
   ]
  },
  {
   "cell_type": "markdown",
   "metadata": {},
   "source": [
    "We will create different variables holding the paths towards important directories, such as logs and video/images for evaluation."
   ]
  },
  {
   "cell_type": "code",
   "execution_count": null,
   "metadata": {},
   "outputs": [],
   "source": [
    "#Log dir path and create the log directory\n",
    "log_dir = os.path.join(root_dir,\"logs\")\n",
    "os.makedirs(log_dir,exist_ok= True)\n",
    "log_dir"
   ]
  },
  {
   "cell_type": "code",
   "execution_count": null,
   "metadata": {},
   "outputs": [],
   "source": [
    "#local path for the rcnn coco weights\n",
    "coco_model_path = os.path.join('', \"mask_rcnn_coco.h5\")\n",
    "coco_model_path"
   ]
  },
  {
   "cell_type": "code",
   "execution_count": null,
   "metadata": {},
   "outputs": [],
   "source": [
    "#path pointing at the images folder\n",
    "eva_image_dir = os.path.join(root_dir,\"evaluation_Images\")\n",
    "os.makedirs(eva_image_dir,exist_ok= True)\n",
    "eva_image_dir"
   ]
  },
  {
   "cell_type": "code",
   "execution_count": null,
   "metadata": {},
   "outputs": [],
   "source": [
    "#same for evaluation video, since that's the end goal.\n",
    "eva_video_dir = os.path.join(root_dir,\"evaluation_Video\")\n",
    "os.makedirs(eva_video_dir,exist_ok= True)\n",
    "eva_video_dir"
   ]
  },
  {
   "cell_type": "code",
   "execution_count": null,
   "metadata": {},
   "outputs": [],
   "source": [
    "#!tf_upgrade_v2  --intree C:\\Users\\saraf\\Project_Master_Thesis\\Project\\mrcnn --inplace --reportfile report.txt"
   ]
  },
  {
   "cell_type": "code",
   "execution_count": null,
   "metadata": {},
   "outputs": [],
   "source": [
    "#create the inference class. We will use that to infer the Mask rcnn model.\n",
    "class InferenceConfig(coco.CocoConfig):\n",
    "    # Batch size =  GPU_Count * Images_per_GPU\n",
    "    # since we have 1 GPY and 1 image at the time both will be 1.\n",
    "    GPU_count = 1\n",
    "    image_per_GPU = 1\n"
   ]
  },
  {
   "cell_type": "code",
   "execution_count": null,
   "metadata": {},
   "outputs": [],
   "source": [
    "#Supposing all went well we should be able to successfully infer our model\n",
    "config =  InferenceConfig()\n",
    "config.display()"
   ]
  },
  {
   "cell_type": "markdown",
   "metadata": {},
   "source": [
    "### We have sucessfully infered the Mask R-Cnn archetype\n",
    "Above we have a list of all hyper parameters of the model. Most important among them are, the shape of Mask [28,28] which instead of [256,256] because it is trained in the COCO dataset. The possible class predictions are 81. What we are interested in is car classification in our images."
   ]
  },
  {
   "cell_type": "code",
   "execution_count": null,
   "metadata": {},
   "outputs": [],
   "source": [
    "#Create the model object \n",
    "\"\"\"\n",
    "        mode: Either \"training\" or \"inference\"\n",
    "        config: A Sub-class of the Config class\n",
    "        model_dir: Directory to save training logs and trained weights\n",
    "\"\"\"\n",
    "model = modellib.MaskRCNN(mode = \"inference\", model_dir=\"our_model.hy\", config = config)"
   ]
  },
  {
   "cell_type": "code",
   "execution_count": null,
   "metadata": {},
   "outputs": [],
   "source": [
    "#Lets load the pre-trained weights\n",
    "model.load_weights('mask_rcnn_coco.h5', by_name =True)"
   ]
  },
  {
   "cell_type": "code",
   "execution_count": null,
   "metadata": {},
   "outputs": [],
   "source": [
    "# end the time\n",
    "timer.stop()"
   ]
  }
 ],
 "metadata": {
  "kernelspec": {
   "display_name": "Python 3",
   "language": "python",
   "name": "python3"
  },
  "language_info": {
   "codemirror_mode": {
    "name": "ipython",
    "version": 3
   },
   "file_extension": ".py",
   "mimetype": "text/x-python",
   "name": "python",
   "nbconvert_exporter": "python",
   "pygments_lexer": "ipython3",
   "version": "3.11.0"
  },
  "orig_nbformat": 4
 },
 "nbformat": 4,
 "nbformat_minor": 2
}
