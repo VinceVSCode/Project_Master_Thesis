{
 "cells": [
  {
   "cell_type": "markdown",
   "metadata": {},
   "source": [
    "# Automatic Recognition of Vehicles at Intersections and Update of Moving Vehicles\n",
    " \n"
   ]
  },
  {
   "cell_type": "markdown",
   "metadata": {},
   "source": [
    "### Monitoring Execution\n",
    "Using the time library we will monitor our programms execution."
   ]
  },
  {
   "cell_type": "code",
   "execution_count": 1,
   "metadata": {},
   "outputs": [],
   "source": [
    "#Start counting the time execution of our programm.\n",
    "%run timer_class.ipynb\n",
    "timer = Timer()\n",
    "timer.start()\n",
    "\n"
   ]
  },
  {
   "cell_type": "markdown",
   "metadata": {},
   "source": [
    "Firstly, we will create a function that will check the existense of all necessary libraries.So as to ensure a stable execution of our programm."
   ]
  },
  {
   "cell_type": "code",
   "execution_count": 2,
   "metadata": {},
   "outputs": [],
   "source": [
    "import sys \n",
    "import os\n",
    "\n",
    "%run check_env.ipynb\n",
    "check_env()"
   ]
  },
  {
   "cell_type": "code",
   "execution_count": 3,
   "metadata": {},
   "outputs": [],
   "source": [
    "#Now we are sure for the existence of the libraries. We can safely proceed with importing them.\n",
    "# import numpy as np\n",
    "# import cv2 \n",
    "# import tensorflow as tf\n",
    "# import matplotlib as plt\n",
    "# import pandas as pd\n",
    "\n",
    "\n",
    "import warnings \n",
    "warnings.filterwarnings(\"ignore\")\n"
   ]
  },
  {
   "cell_type": "code",
   "execution_count": 4,
   "metadata": {},
   "outputs": [
    {
     "name": "stdout",
     "output_type": "stream",
     "text": [
      "Elapsed time is: 6.83 seconds\n"
     ]
    }
   ],
   "source": [
    "#Stop counting time see how much time it took for the libraries to get imported.\n",
    "timer.stop()"
   ]
  },
  {
   "cell_type": "code",
   "execution_count": 5,
   "metadata": {},
   "outputs": [
    {
     "data": {
      "text/plain": [
       "('c:\\\\Users\\\\saraf\\\\Project_Master_Thesis',\n",
       " 'c:\\\\Users\\\\saraf\\\\Project_Master_Thesis\\\\Project')"
      ]
     },
     "execution_count": 5,
     "metadata": {},
     "output_type": "execute_result"
    }
   ],
   "source": [
    "#Have a variable keep the root dir of the project and one for the current directory.\n",
    "root_dir = os.path.abspath(\"../\")\n",
    "cur_dir = os.getcwd()\n",
    "root_dir,cur_dir"
   ]
  },
  {
   "cell_type": "code",
   "execution_count": 10,
   "metadata": {},
   "outputs": [],
   "source": [
    "#Import the Mask RCNN 2.1 using the local version we downloaded from github\n",
    "lib_path = os.path.join(root_dir,\"mrcnn\")\n",
    "#print (f\"mrcnn path: {lib_path} \")\n",
    "sys.path.insert(1,lib_path) \n",
    "import utils\n",
    "import model as modellib\n",
    "import visualize\n"
   ]
  },
  {
   "cell_type": "code",
   "execution_count": 13,
   "metadata": {},
   "outputs": [],
   "source": [
    "#Import the coco directory\n",
    "import coco\n",
    "%matplotlib inline"
   ]
  }
 ],
 "metadata": {
  "kernelspec": {
   "display_name": "Python 3",
   "language": "python",
   "name": "python3"
  },
  "language_info": {
   "codemirror_mode": {
    "name": "ipython",
    "version": 3
   },
   "file_extension": ".py",
   "mimetype": "text/x-python",
   "name": "python",
   "nbconvert_exporter": "python",
   "pygments_lexer": "ipython3",
   "version": "3.10.0"
  },
  "orig_nbformat": 4
 },
 "nbformat": 4,
 "nbformat_minor": 2
}
