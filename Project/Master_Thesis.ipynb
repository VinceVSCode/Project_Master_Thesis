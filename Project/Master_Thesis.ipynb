{
 "cells": [
  {
   "cell_type": "markdown",
   "metadata": {},
   "source": [
    "# Automatic Recognition of Vehicles at Intersections and Update of Moving Vehicles\n",
    " \n"
   ]
  },
  {
   "cell_type": "markdown",
   "metadata": {},
   "source": [
    "### Monitoring Execution\n",
    "Using the time library we will monitor our programms execution."
   ]
  },
  {
   "cell_type": "code",
   "execution_count": 1,
   "metadata": {},
   "outputs": [],
   "source": [
    "#Start counting the time execution of our programm.\n",
    "%run timer_class.ipynb\n",
    "timer = Timer()\n",
    "timer.start()"
   ]
  },
  {
   "cell_type": "markdown",
   "metadata": {},
   "source": [
    "Firstly, we will create a function that will check the existense of all necessary libraries.So as to ensure a stable execution of our programm."
   ]
  },
  {
   "cell_type": "code",
   "execution_count": 2,
   "metadata": {},
   "outputs": [
    {
     "name": "stdout",
     "output_type": "stream",
     "text": [
      "Note: you may need to restart the kernel to use updated packages.\n",
      "Requirement already satisfied: absl-py==1.4.0 in c:\\users\\saraf\\appdata\\local\\programs\\python\\python310\\lib\\site-packages (from -r requirements.txt (line 1)) (1.4.0)\n",
      "Requirement already satisfied: aggdraw==1.3.16 in c:\\users\\saraf\\appdata\\local\\programs\\python\\python310\\lib\\site-packages (from -r requirements.txt (line 2)) (1.3.16)\n",
      "Requirement already satisfied: alabaster==0.7.13 in c:\\users\\saraf\\appdata\\local\\programs\\python\\python310\\lib\\site-packages (from -r requirements.txt (line 3)) (0.7.13)\n",
      "Requirement already satisfied: anyio==3.7.1 in c:\\users\\saraf\\appdata\\local\\programs\\python\\python310\\lib\\site-packages (from -r requirements.txt (line 4)) (3.7.1)\n",
      "Requirement already satisfied: argon2-cffi==23.1.0 in c:\\users\\saraf\\appdata\\local\\programs\\python\\python310\\lib\\site-packages (from -r requirements.txt (line 5)) (23.1.0)\n",
      "Requirement already satisfied: argon2-cffi-bindings==21.2.0 in c:\\users\\saraf\\appdata\\local\\programs\\python\\python310\\lib\\site-packages (from -r requirements.txt (line 6)) (21.2.0)\n",
      "Requirement already satisfied: arrow==1.2.3 in c:\\users\\saraf\\appdata\\local\\programs\\python\\python310\\lib\\site-packages (from -r requirements.txt (line 7)) (1.2.3)\n",
      "Requirement already satisfied: asttokens==2.2.1 in c:\\users\\saraf\\appdata\\roaming\\python\\python310\\site-packages (from -r requirements.txt (line 8)) (2.2.1)\n",
      "Requirement already satisfied: astunparse==1.6.3 in c:\\users\\saraf\\appdata\\local\\programs\\python\\python310\\lib\\site-packages (from -r requirements.txt (line 9)) (1.6.3)\n",
      "Requirement already satisfied: async-lru==2.0.4 in c:\\users\\saraf\\appdata\\local\\programs\\python\\python310\\lib\\site-packages (from -r requirements.txt (line 10)) (2.0.4)\n",
      "Requirement already satisfied: atomicwrites==1.4.1 in c:\\users\\saraf\\appdata\\local\\programs\\python\\python310\\lib\\site-packages (from -r requirements.txt (line 11)) (1.4.1)\n",
      "Requirement already satisfied: attrs==23.1.0 in c:\\users\\saraf\\appdata\\local\\programs\\python\\python310\\lib\\site-packages (from -r requirements.txt (line 12)) (23.1.0)\n",
      "Requirement already satisfied: Babel==2.12.1 in c:\\users\\saraf\\appdata\\local\\programs\\python\\python310\\lib\\site-packages (from -r requirements.txt (line 13)) (2.12.1)\n",
      "Requirement already satisfied: backcall==0.2.0 in c:\\users\\saraf\\appdata\\roaming\\python\\python310\\site-packages (from -r requirements.txt (line 14)) (0.2.0)\n",
      "Requirement already satisfied: beautifulsoup4==4.12.2 in c:\\users\\saraf\\appdata\\local\\programs\\python\\python310\\lib\\site-packages (from -r requirements.txt (line 15)) (4.12.2)\n",
      "Requirement already satisfied: black==23.7.0 in c:\\users\\saraf\\appdata\\local\\programs\\python\\python310\\lib\\site-packages (from -r requirements.txt (line 16)) (23.7.0)\n",
      "Requirement already satisfied: bleach==6.0.0 in c:\\users\\saraf\\appdata\\local\\programs\\python\\python310\\lib\\site-packages (from -r requirements.txt (line 17)) (6.0.0)\n",
      "Requirement already satisfied: cachetools==5.3.1 in c:\\users\\saraf\\appdata\\local\\programs\\python\\python310\\lib\\site-packages (from -r requirements.txt (line 18)) (5.3.1)\n",
      "Requirement already satisfied: certifi==2023.5.7 in c:\\users\\saraf\\appdata\\local\\programs\\python\\python310\\lib\\site-packages (from -r requirements.txt (line 19)) (2023.5.7)\n",
      "Requirement already satisfied: cffi==1.15.1 in c:\\users\\saraf\\appdata\\local\\programs\\python\\python310\\lib\\site-packages (from -r requirements.txt (line 20)) (1.15.1)\n",
      "Requirement already satisfied: charset-normalizer==3.1.0 in c:\\users\\saraf\\appdata\\local\\programs\\python\\python310\\lib\\site-packages (from -r requirements.txt (line 21)) (3.1.0)\n",
      "Requirement already satisfied: click==8.1.3 in c:\\users\\saraf\\appdata\\local\\programs\\python\\python310\\lib\\site-packages (from -r requirements.txt (line 22)) (8.1.3)\n",
      "Requirement already satisfied: colorama==0.4.6 in c:\\users\\saraf\\appdata\\roaming\\python\\python310\\site-packages (from -r requirements.txt (line 23)) (0.4.6)\n",
      "Requirement already satisfied: comm==0.1.3 in c:\\users\\saraf\\appdata\\roaming\\python\\python310\\site-packages (from -r requirements.txt (line 24)) (0.1.3)\n",
      "Requirement already satisfied: contourpy==1.0.7 in c:\\users\\saraf\\appdata\\local\\programs\\python\\python310\\lib\\site-packages (from -r requirements.txt (line 25)) (1.0.7)\n",
      "Requirement already satisfied: curio==1.6 in c:\\users\\saraf\\appdata\\local\\programs\\python\\python310\\lib\\site-packages (from -r requirements.txt (line 26)) (1.6)\n",
      "Requirement already satisfied: cycler==0.11.0 in c:\\users\\saraf\\appdata\\local\\programs\\python\\python310\\lib\\site-packages (from -r requirements.txt (line 27)) (0.11.0)\n",
      "Requirement already satisfied: Cython==3.0.1 in c:\\users\\saraf\\appdata\\local\\programs\\python\\python310\\lib\\site-packages (from -r requirements.txt (line 28)) (3.0.1)\n",
      "Requirement already satisfied: dacite==1.8.1 in c:\\users\\saraf\\appdata\\local\\programs\\python\\python310\\lib\\site-packages (from -r requirements.txt (line 29)) (1.8.1)\n",
      "Requirement already satisfied: debugpy==1.6.7 in c:\\users\\saraf\\appdata\\roaming\\python\\python310\\site-packages (from -r requirements.txt (line 30)) (1.6.7)\n",
      "Requirement already satisfied: decorator==5.1.1 in c:\\users\\saraf\\appdata\\roaming\\python\\python310\\site-packages (from -r requirements.txt (line 31)) (5.1.1)\n",
      "Requirement already satisfied: defusedxml==0.7.1 in c:\\users\\saraf\\appdata\\local\\programs\\python\\python310\\lib\\site-packages (from -r requirements.txt (line 32)) (0.7.1)\n",
      "Requirement already satisfied: docopt==0.6.2 in c:\\users\\saraf\\appdata\\local\\programs\\python\\python310\\lib\\site-packages (from -r requirements.txt (line 33)) (0.6.2)\n",
      "Requirement already satisfied: docrepr==0.2.0 in c:\\users\\saraf\\appdata\\local\\programs\\python\\python310\\lib\\site-packages (from -r requirements.txt (line 34)) (0.2.0)\n",
      "Requirement already satisfied: docutils==0.18.1 in c:\\users\\saraf\\appdata\\local\\programs\\python\\python310\\lib\\site-packages (from -r requirements.txt (line 35)) (0.18.1)\n",
      "Requirement already satisfied: entrypoints==0.4 in c:\\users\\saraf\\appdata\\local\\programs\\python\\python310\\lib\\site-packages (from -r requirements.txt (line 36)) (0.4)\n",
      "Requirement already satisfied: exceptiongroup==1.1.3 in c:\\users\\saraf\\appdata\\local\\programs\\python\\python310\\lib\\site-packages (from -r requirements.txt (line 37)) (1.1.3)\n",
      "Requirement already satisfied: executing==1.2.0 in c:\\users\\saraf\\appdata\\roaming\\python\\python310\\site-packages (from -r requirements.txt (line 38)) (1.2.0)\n",
      "Requirement already satisfied: fastjsonschema==2.17.1 in c:\\users\\saraf\\appdata\\local\\programs\\python\\python310\\lib\\site-packages (from -r requirements.txt (line 39)) (2.17.1)\n",
      "Requirement already satisfied: flatbuffers==23.5.26 in c:\\users\\saraf\\appdata\\local\\programs\\python\\python310\\lib\\site-packages (from -r requirements.txt (line 40)) (23.5.26)\n",
      "Requirement already satisfied: fonttools==4.39.4 in c:\\users\\saraf\\appdata\\local\\programs\\python\\python310\\lib\\site-packages (from -r requirements.txt (line 41)) (4.39.4)\n",
      "Requirement already satisfied: fqdn==1.5.1 in c:\\users\\saraf\\appdata\\local\\programs\\python\\python310\\lib\\site-packages (from -r requirements.txt (line 42)) (1.5.1)\n",
      "Requirement already satisfied: gast==0.4.0 in c:\\users\\saraf\\appdata\\local\\programs\\python\\python310\\lib\\site-packages (from -r requirements.txt (line 43)) (0.4.0)\n",
      "Requirement already satisfied: google-auth==2.19.1 in c:\\users\\saraf\\appdata\\local\\programs\\python\\python310\\lib\\site-packages (from -r requirements.txt (line 44)) (2.19.1)\n",
      "Requirement already satisfied: google-auth-oauthlib==1.0.0 in c:\\users\\saraf\\appdata\\local\\programs\\python\\python310\\lib\\site-packages (from -r requirements.txt (line 45)) (1.0.0)\n",
      "Requirement already satisfied: google-pasta==0.2.0 in c:\\users\\saraf\\appdata\\local\\programs\\python\\python310\\lib\\site-packages (from -r requirements.txt (line 46)) (0.2.0)\n",
      "Requirement already satisfied: graphviz==0.20.1 in c:\\users\\saraf\\appdata\\local\\programs\\python\\python310\\lib\\site-packages (from -r requirements.txt (line 47)) (0.20.1)\n",
      "Requirement already satisfied: grpcio==1.54.2 in c:\\users\\saraf\\appdata\\local\\programs\\python\\python310\\lib\\site-packages (from -r requirements.txt (line 48)) (1.54.2)\n",
      "Requirement already satisfied: h5py==3.8.0 in c:\\users\\saraf\\appdata\\local\\programs\\python\\python310\\lib\\site-packages (from -r requirements.txt (line 49)) (3.8.0)\n",
      "Requirement already satisfied: htmlmin==0.1.12 in c:\\users\\saraf\\appdata\\local\\programs\\python\\python310\\lib\\site-packages (from -r requirements.txt (line 50)) (0.1.12)\n",
      "Requirement already satisfied: idna==3.4 in c:\\users\\saraf\\appdata\\local\\programs\\python\\python310\\lib\\site-packages (from -r requirements.txt (line 51)) (3.4)\n",
      "Requirement already satisfied: ImageHash==4.3.1 in c:\\users\\saraf\\appdata\\roaming\\python\\python310\\site-packages (from -r requirements.txt (line 52)) (4.3.1)\n",
      "Requirement already satisfied: imageio==2.31.1 in c:\\users\\saraf\\appdata\\local\\programs\\python\\python310\\lib\\site-packages (from -r requirements.txt (line 53)) (2.31.1)\n",
      "Requirement already satisfied: imagesize==1.4.1 in c:\\users\\saraf\\appdata\\local\\programs\\python\\python310\\lib\\site-packages (from -r requirements.txt (line 54)) (1.4.1)\n",
      "Requirement already satisfied: imgaug==0.4.0 in c:\\users\\saraf\\appdata\\local\\programs\\python\\python310\\lib\\site-packages (from -r requirements.txt (line 55)) (0.4.0)\n",
      "Requirement already satisfied: iniconfig==2.0.0 in c:\\users\\saraf\\appdata\\local\\programs\\python\\python310\\lib\\site-packages (from -r requirements.txt (line 56)) (2.0.0)\n",
      "Requirement already satisfied: install==1.3.5 in c:\\users\\saraf\\appdata\\local\\programs\\python\\python310\\lib\\site-packages (from -r requirements.txt (line 57)) (1.3.5)\n",
      "Requirement already satisfied: ipykernel==6.23.1 in c:\\users\\saraf\\appdata\\roaming\\python\\python310\\site-packages (from -r requirements.txt (line 58)) (6.23.1)\n",
      "Requirement already satisfied: ipyparallel==8.6.1 in c:\\users\\saraf\\appdata\\local\\programs\\python\\python310\\lib\\site-packages (from -r requirements.txt (line 59)) (8.6.1)\n",
      "Requirement already satisfied: ipython==8.13.2 in c:\\users\\saraf\\appdata\\roaming\\python\\python310\\site-packages (from -r requirements.txt (line 60)) (8.13.2)\n",
      "Requirement already satisfied: ipython-genutils==0.2.0 in c:\\users\\saraf\\appdata\\local\\programs\\python\\python310\\lib\\site-packages (from -r requirements.txt (line 61)) (0.2.0)\n",
      "Requirement already satisfied: ipywidgets==8.0.6 in c:\\users\\saraf\\appdata\\local\\programs\\python\\python310\\lib\\site-packages (from -r requirements.txt (line 62)) (8.0.6)\n",
      "Requirement already satisfied: isoduration==20.11.0 in c:\\users\\saraf\\appdata\\local\\programs\\python\\python310\\lib\\site-packages (from -r requirements.txt (line 63)) (20.11.0)\n",
      "Requirement already satisfied: jax==0.4.7 in c:\\users\\saraf\\appdata\\local\\programs\\python\\python310\\lib\\site-packages (from -r requirements.txt (line 64)) (0.4.7)\n",
      "Requirement already satisfied: jedi==0.18.2 in c:\\users\\saraf\\appdata\\roaming\\python\\python310\\site-packages (from -r requirements.txt (line 65)) (0.18.2)\n",
      "Requirement already satisfied: Jinja2==3.1.2 in c:\\users\\saraf\\appdata\\local\\programs\\python\\python310\\lib\\site-packages (from -r requirements.txt (line 66)) (3.1.2)\n",
      "Requirement already satisfied: joblib==1.2.0 in c:\\users\\saraf\\appdata\\local\\programs\\python\\python310\\lib\\site-packages (from -r requirements.txt (line 67)) (1.2.0)\n",
      "Requirement already satisfied: json5==0.9.14 in c:\\users\\saraf\\appdata\\local\\programs\\python\\python310\\lib\\site-packages (from -r requirements.txt (line 68)) (0.9.14)\n",
      "Requirement already satisfied: jsonpointer==2.4 in c:\\users\\saraf\\appdata\\local\\programs\\python\\python310\\lib\\site-packages (from -r requirements.txt (line 69)) (2.4)\n",
      "Requirement already satisfied: jsonschema==4.19.0 in c:\\users\\saraf\\appdata\\local\\programs\\python\\python310\\lib\\site-packages (from -r requirements.txt (line 70)) (4.19.0)\n",
      "Requirement already satisfied: jsonschema-specifications==2023.7.1 in c:\\users\\saraf\\appdata\\local\\programs\\python\\python310\\lib\\site-packages (from -r requirements.txt (line 71)) (2023.7.1)\n",
      "Requirement already satisfied: jupyter-events==0.7.0 in c:\\users\\saraf\\appdata\\local\\programs\\python\\python310\\lib\\site-packages (from -r requirements.txt (line 72)) (0.7.0)\n",
      "Requirement already satisfied: jupyter-lsp==2.2.0 in c:\\users\\saraf\\appdata\\local\\programs\\python\\python310\\lib\\site-packages (from -r requirements.txt (line 73)) (2.2.0)\n",
      "Requirement already satisfied: jupyter_client==8.2.0 in c:\\users\\saraf\\appdata\\roaming\\python\\python310\\site-packages (from -r requirements.txt (line 74)) (8.2.0)\n",
      "Requirement already satisfied: jupyter_core==5.3.0 in c:\\users\\saraf\\appdata\\roaming\\python\\python310\\site-packages (from -r requirements.txt (line 75)) (5.3.0)\n",
      "Requirement already satisfied: jupyter_server==2.7.2 in c:\\users\\saraf\\appdata\\local\\programs\\python\\python310\\lib\\site-packages (from -r requirements.txt (line 76)) (2.7.2)\n",
      "Requirement already satisfied: jupyter_server_terminals==0.4.4 in c:\\users\\saraf\\appdata\\local\\programs\\python\\python310\\lib\\site-packages (from -r requirements.txt (line 77)) (0.4.4)\n",
      "Requirement already satisfied: jupyterlab==4.0.5 in c:\\users\\saraf\\appdata\\local\\programs\\python\\python310\\lib\\site-packages (from -r requirements.txt (line 78)) (4.0.5)\n",
      "Requirement already satisfied: jupyterlab-pygments==0.2.2 in c:\\users\\saraf\\appdata\\local\\programs\\python\\python310\\lib\\site-packages (from -r requirements.txt (line 79)) (0.2.2)\n",
      "Requirement already satisfied: jupyterlab-widgets==3.0.7 in c:\\users\\saraf\\appdata\\local\\programs\\python\\python310\\lib\\site-packages (from -r requirements.txt (line 80)) (3.0.7)\n",
      "Requirement already satisfied: jupyterlab_server==2.24.0 in c:\\users\\saraf\\appdata\\local\\programs\\python\\python310\\lib\\site-packages (from -r requirements.txt (line 81)) (2.24.0)\n",
      "Requirement already satisfied: keras==2.12.0 in c:\\users\\saraf\\appdata\\local\\programs\\python\\python310\\lib\\site-packages (from -r requirements.txt (line 82)) (2.12.0)\n",
      "Requirement already satisfied: Keras-Applications==1.0.8 in c:\\users\\saraf\\appdata\\local\\programs\\python\\python310\\lib\\site-packages (from -r requirements.txt (line 83)) (1.0.8)\n",
      "Requirement already satisfied: Keras-Preprocessing==1.1.2 in c:\\users\\saraf\\appdata\\local\\programs\\python\\python310\\lib\\site-packages (from -r requirements.txt (line 84)) (1.1.2)\n",
      "Requirement already satisfied: kiwisolver==1.4.4 in c:\\users\\saraf\\appdata\\local\\programs\\python\\python310\\lib\\site-packages (from -r requirements.txt (line 85)) (1.4.4)\n",
      "Requirement already satisfied: lazy_loader==0.3 in c:\\users\\saraf\\appdata\\local\\programs\\python\\python310\\lib\\site-packages (from -r requirements.txt (line 86)) (0.3)\n",
      "Requirement already satisfied: libclang==16.0.0 in c:\\users\\saraf\\appdata\\local\\programs\\python\\python310\\lib\\site-packages (from -r requirements.txt (line 87)) (16.0.0)\n",
      "Requirement already satisfied: Markdown==3.4.3 in c:\\users\\saraf\\appdata\\local\\programs\\python\\python310\\lib\\site-packages (from -r requirements.txt (line 88)) (3.4.3)\n",
      "Requirement already satisfied: MarkupSafe==2.1.2 in c:\\users\\saraf\\appdata\\local\\programs\\python\\python310\\lib\\site-packages (from -r requirements.txt (line 89)) (2.1.2)\n",
      "Requirement already satisfied: matplotlib==3.7.1 in c:\\users\\saraf\\appdata\\local\\programs\\python\\python310\\lib\\site-packages (from -r requirements.txt (line 90)) (3.7.1)\n",
      "Requirement already satisfied: matplotlib-inline==0.1.6 in c:\\users\\saraf\\appdata\\roaming\\python\\python310\\site-packages (from -r requirements.txt (line 91)) (0.1.6)\n",
      "Requirement already satisfied: mistune==2.0.5 in c:\\users\\saraf\\appdata\\local\\programs\\python\\python310\\lib\\site-packages (from -r requirements.txt (line 92)) (2.0.5)\n",
      "Requirement already satisfied: ml-dtypes==0.1.0 in c:\\users\\saraf\\appdata\\local\\programs\\python\\python310\\lib\\site-packages (from -r requirements.txt (line 93)) (0.1.0)\n",
      "Requirement already satisfied: multimethod==1.9.1 in c:\\users\\saraf\\appdata\\local\\programs\\python\\python310\\lib\\site-packages (from -r requirements.txt (line 94)) (1.9.1)\n",
      "Requirement already satisfied: mypy-extensions==1.0.0 in c:\\users\\saraf\\appdata\\local\\programs\\python\\python310\\lib\\site-packages (from -r requirements.txt (line 95)) (1.0.0)\n",
      "Requirement already satisfied: nbclient==0.8.0 in c:\\users\\saraf\\appdata\\local\\programs\\python\\python310\\lib\\site-packages (from -r requirements.txt (line 96)) (0.8.0)\n",
      "Requirement already satisfied: nbconvert==7.4.0 in c:\\users\\saraf\\appdata\\local\\programs\\python\\python310\\lib\\site-packages (from -r requirements.txt (line 97)) (7.4.0)\n",
      "Requirement already satisfied: nbformat==5.9.0 in c:\\users\\saraf\\appdata\\local\\programs\\python\\python310\\lib\\site-packages (from -r requirements.txt (line 98)) (5.9.0)\n",
      "Requirement already satisfied: nest-asyncio==1.5.6 in c:\\users\\saraf\\appdata\\roaming\\python\\python310\\site-packages (from -r requirements.txt (line 99)) (1.5.6)\n",
      "Requirement already satisfied: networkx==3.1 in c:\\users\\saraf\\appdata\\local\\programs\\python\\python310\\lib\\site-packages (from -r requirements.txt (line 100)) (3.1)\n",
      "Requirement already satisfied: nltk==3.8.1 in c:\\users\\saraf\\appdata\\local\\programs\\python\\python310\\lib\\site-packages (from -r requirements.txt (line 101)) (3.8.1)\n",
      "Requirement already satisfied: notebook==7.0.2 in c:\\users\\saraf\\appdata\\local\\programs\\python\\python310\\lib\\site-packages (from -r requirements.txt (line 102)) (7.0.2)\n",
      "Requirement already satisfied: notebook_shim==0.2.3 in c:\\users\\saraf\\appdata\\local\\programs\\python\\python310\\lib\\site-packages (from -r requirements.txt (line 103)) (0.2.3)\n",
      "Requirement already satisfied: numpy==1.23.5 in c:\\users\\saraf\\appdata\\local\\programs\\python\\python310\\lib\\site-packages (from -r requirements.txt (line 104)) (1.23.5)\n",
      "Requirement already satisfied: oauthlib==3.2.2 in c:\\users\\saraf\\appdata\\local\\programs\\python\\python310\\lib\\site-packages (from -r requirements.txt (line 105)) (3.2.2)\n",
      "Requirement already satisfied: opencv-python==4.8.0.76 in c:\\users\\saraf\\appdata\\local\\programs\\python\\python310\\lib\\site-packages (from -r requirements.txt (line 106)) (4.8.0.76)\n",
      "Requirement already satisfied: opt-einsum==3.3.0 in c:\\users\\saraf\\appdata\\local\\programs\\python\\python310\\lib\\site-packages (from -r requirements.txt (line 107)) (3.3.0)\n",
      "Requirement already satisfied: outcome==1.2.0 in c:\\users\\saraf\\appdata\\local\\programs\\python\\python310\\lib\\site-packages (from -r requirements.txt (line 108)) (1.2.0)\n",
      "Requirement already satisfied: overrides==7.4.0 in c:\\users\\saraf\\appdata\\local\\programs\\python\\python310\\lib\\site-packages (from -r requirements.txt (line 109)) (7.4.0)\n",
      "Requirement already satisfied: packaging==23.1 in c:\\users\\saraf\\appdata\\roaming\\python\\python310\\site-packages (from -r requirements.txt (line 110)) (23.1)\n",
      "Requirement already satisfied: pandas==1.5.3 in c:\\users\\saraf\\appdata\\local\\programs\\python\\python310\\lib\\site-packages (from -r requirements.txt (line 111)) (1.5.3)\n",
      "Requirement already satisfied: pandas-profiling==3.6.6 in c:\\users\\saraf\\appdata\\roaming\\python\\python310\\site-packages (from -r requirements.txt (line 112)) (3.6.6)\n",
      "Requirement already satisfied: pandocfilters==1.5.0 in c:\\users\\saraf\\appdata\\local\\programs\\python\\python310\\lib\\site-packages (from -r requirements.txt (line 113)) (1.5.0)\n",
      "Requirement already satisfied: parso==0.8.3 in c:\\users\\saraf\\appdata\\roaming\\python\\python310\\site-packages (from -r requirements.txt (line 114)) (0.8.3)\n",
      "Requirement already satisfied: pathspec==0.11.2 in c:\\users\\saraf\\appdata\\local\\programs\\python\\python310\\lib\\site-packages (from -r requirements.txt (line 115)) (0.11.2)\n",
      "Requirement already satisfied: patsy==0.5.3 in c:\\users\\saraf\\appdata\\local\\programs\\python\\python310\\lib\\site-packages (from -r requirements.txt (line 116)) (0.5.3)\n",
      "Requirement already satisfied: phik==0.12.3 in c:\\users\\saraf\\appdata\\roaming\\python\\python310\\site-packages (from -r requirements.txt (line 117)) (0.12.3)\n",
      "Requirement already satisfied: pickleshare==0.7.5 in c:\\users\\saraf\\appdata\\roaming\\python\\python310\\site-packages (from -r requirements.txt (line 118)) (0.7.5)\n",
      "Requirement already satisfied: Pillow==9.5.0 in c:\\users\\saraf\\appdata\\local\\programs\\python\\python310\\lib\\site-packages (from -r requirements.txt (line 119)) (9.5.0)\n",
      "Requirement already satisfied: pipreqs==0.4.13 in c:\\users\\saraf\\appdata\\local\\programs\\python\\python310\\lib\\site-packages (from -r requirements.txt (line 120)) (0.4.13)\n",
      "Requirement already satisfied: platformdirs==3.5.1 in c:\\users\\saraf\\appdata\\roaming\\python\\python310\\site-packages (from -r requirements.txt (line 121)) (3.5.1)\n",
      "Requirement already satisfied: pluggy==1.3.0 in c:\\users\\saraf\\appdata\\local\\programs\\python\\python310\\lib\\site-packages (from -r requirements.txt (line 122)) (1.3.0)\n",
      "Requirement already satisfied: prometheus-client==0.17.1 in c:\\users\\saraf\\appdata\\local\\programs\\python\\python310\\lib\\site-packages (from -r requirements.txt (line 123)) (0.17.1)\n",
      "Requirement already satisfied: prompt-toolkit==3.0.38 in c:\\users\\saraf\\appdata\\roaming\\python\\python310\\site-packages (from -r requirements.txt (line 124)) (3.0.38)\n",
      "Requirement already satisfied: protobuf==4.23.2 in c:\\users\\saraf\\appdata\\local\\programs\\python\\python310\\lib\\site-packages (from -r requirements.txt (line 125)) (4.23.2)\n",
      "Requirement already satisfied: psutil==5.9.5 in c:\\users\\saraf\\appdata\\roaming\\python\\python310\\site-packages (from -r requirements.txt (line 126)) (5.9.5)\n",
      "Requirement already satisfied: pure-eval==0.2.2 in c:\\users\\saraf\\appdata\\roaming\\python\\python310\\site-packages (from -r requirements.txt (line 127)) (0.2.2)\n",
      "Requirement already satisfied: py==1.11.0 in c:\\users\\saraf\\appdata\\local\\programs\\python\\python310\\lib\\site-packages (from -r requirements.txt (line 128)) (1.11.0)\n",
      "Requirement already satisfied: pyasn1==0.5.0 in c:\\users\\saraf\\appdata\\local\\programs\\python\\python310\\lib\\site-packages (from -r requirements.txt (line 129)) (0.5.0)\n",
      "Requirement already satisfied: pyasn1-modules==0.3.0 in c:\\users\\saraf\\appdata\\local\\programs\\python\\python310\\lib\\site-packages (from -r requirements.txt (line 130)) (0.3.0)\n",
      "Requirement already satisfied: pycocotools==2.0.7 in c:\\users\\saraf\\appdata\\local\\programs\\python\\python310\\lib\\site-packages (from -r requirements.txt (line 131)) (2.0.7)\n",
      "Requirement already satisfied: pycparser==2.21 in c:\\users\\saraf\\appdata\\local\\programs\\python\\python310\\lib\\site-packages (from -r requirements.txt (line 132)) (2.21)\n",
      "Requirement already satisfied: pydantic==1.10.8 in c:\\users\\saraf\\appdata\\local\\programs\\python\\python310\\lib\\site-packages (from -r requirements.txt (line 133)) (1.10.8)\n",
      "Requirement already satisfied: pydot==1.4.2 in c:\\users\\saraf\\appdata\\local\\programs\\python\\python310\\lib\\site-packages (from -r requirements.txt (line 134)) (1.4.2)\n",
      "Requirement already satisfied: pydotplus==2.0.2 in c:\\users\\saraf\\appdata\\local\\programs\\python\\python310\\lib\\site-packages (from -r requirements.txt (line 135)) (2.0.2)\n",
      "Requirement already satisfied: Pygments==2.15.1 in c:\\users\\saraf\\appdata\\roaming\\python\\python310\\site-packages (from -r requirements.txt (line 136)) (2.15.1)\n",
      "Requirement already satisfied: pyparsing==3.0.9 in c:\\users\\saraf\\appdata\\local\\programs\\python\\python310\\lib\\site-packages (from -r requirements.txt (line 137)) (3.0.9)\n",
      "Requirement already satisfied: pyrsistent==0.19.3 in c:\\users\\saraf\\appdata\\local\\programs\\python\\python310\\lib\\site-packages (from -r requirements.txt (line 138)) (0.19.3)\n",
      "Requirement already satisfied: pytest==6.2.5 in c:\\users\\saraf\\appdata\\local\\programs\\python\\python310\\lib\\site-packages (from -r requirements.txt (line 139)) (6.2.5)\n",
      "Requirement already satisfied: pytest-asyncio==0.20.3 in c:\\users\\saraf\\appdata\\local\\programs\\python\\python310\\lib\\site-packages (from -r requirements.txt (line 140)) (0.20.3)\n",
      "Requirement already satisfied: python-dateutil==2.8.2 in c:\\users\\saraf\\appdata\\roaming\\python\\python310\\site-packages (from -r requirements.txt (line 141)) (2.8.2)\n",
      "Requirement already satisfied: python-json-logger==2.0.7 in c:\\users\\saraf\\appdata\\local\\programs\\python\\python310\\lib\\site-packages (from -r requirements.txt (line 142)) (2.0.7)\n",
      "Requirement already satisfied: pytz==2023.3 in c:\\users\\saraf\\appdata\\local\\programs\\python\\python310\\lib\\site-packages (from -r requirements.txt (line 143)) (2023.3)\n",
      "Requirement already satisfied: PyWavelets==1.4.1 in c:\\users\\saraf\\appdata\\local\\programs\\python\\python310\\lib\\site-packages (from -r requirements.txt (line 144)) (1.4.1)\n",
      "Requirement already satisfied: pywin32==306 in c:\\users\\saraf\\appdata\\roaming\\python\\python310\\site-packages (from -r requirements.txt (line 145)) (306)\n",
      "Requirement already satisfied: pywinpty==2.0.11 in c:\\users\\saraf\\appdata\\local\\programs\\python\\python310\\lib\\site-packages (from -r requirements.txt (line 146)) (2.0.11)\n",
      "Requirement already satisfied: PyYAML==6.0 in c:\\users\\saraf\\appdata\\local\\programs\\python\\python310\\lib\\site-packages (from -r requirements.txt (line 147)) (6.0)\n",
      "Requirement already satisfied: pyzmq==25.1.0 in c:\\users\\saraf\\appdata\\roaming\\python\\python310\\site-packages (from -r requirements.txt (line 148)) (25.1.0)\n",
      "Requirement already satisfied: qtconsole==5.4.3 in c:\\users\\saraf\\appdata\\local\\programs\\python\\python310\\lib\\site-packages (from -r requirements.txt (line 149)) (5.4.3)\n",
      "Requirement already satisfied: QtPy==2.3.1 in c:\\users\\saraf\\appdata\\local\\programs\\python\\python310\\lib\\site-packages (from -r requirements.txt (line 150)) (2.3.1)\n",
      "Requirement already satisfied: referencing==0.30.2 in c:\\users\\saraf\\appdata\\local\\programs\\python\\python310\\lib\\site-packages (from -r requirements.txt (line 151)) (0.30.2)\n",
      "Requirement already satisfied: regex==2023.6.3 in c:\\users\\saraf\\appdata\\local\\programs\\python\\python310\\lib\\site-packages (from -r requirements.txt (line 152)) (2023.6.3)\n",
      "Requirement already satisfied: requests==2.31.0 in c:\\users\\saraf\\appdata\\local\\programs\\python\\python310\\lib\\site-packages (from -r requirements.txt (line 153)) (2.31.0)\n",
      "Requirement already satisfied: requests-oauthlib==1.3.1 in c:\\users\\saraf\\appdata\\local\\programs\\python\\python310\\lib\\site-packages (from -r requirements.txt (line 154)) (1.3.1)\n",
      "Requirement already satisfied: rfc3339-validator==0.1.4 in c:\\users\\saraf\\appdata\\local\\programs\\python\\python310\\lib\\site-packages (from -r requirements.txt (line 155)) (0.1.4)\n",
      "Requirement already satisfied: rfc3986-validator==0.1.1 in c:\\users\\saraf\\appdata\\local\\programs\\python\\python310\\lib\\site-packages (from -r requirements.txt (line 156)) (0.1.1)\n",
      "Requirement already satisfied: rpds-py==0.10.0 in c:\\users\\saraf\\appdata\\local\\programs\\python\\python310\\lib\\site-packages (from -r requirements.txt (line 157)) (0.10.0)\n",
      "Requirement already satisfied: rsa==4.9 in c:\\users\\saraf\\appdata\\local\\programs\\python\\python310\\lib\\site-packages (from -r requirements.txt (line 158)) (4.9)\n",
      "Requirement already satisfied: scikit-image==0.21.0 in c:\\users\\saraf\\appdata\\local\\programs\\python\\python310\\lib\\site-packages (from -r requirements.txt (line 159)) (0.21.0)\n",
      "Requirement already satisfied: scikit-learn==1.2.2 in c:\\users\\saraf\\appdata\\local\\programs\\python\\python310\\lib\\site-packages (from -r requirements.txt (line 160)) (1.2.2)\n",
      "Requirement already satisfied: scipy==1.10.1 in c:\\users\\saraf\\appdata\\local\\programs\\python\\python310\\lib\\site-packages (from -r requirements.txt (line 161)) (1.10.1)\n",
      "Requirement already satisfied: seaborn==0.12.2 in c:\\users\\saraf\\appdata\\local\\programs\\python\\python310\\lib\\site-packages (from -r requirements.txt (line 162)) (0.12.2)\n",
      "Requirement already satisfied: Send2Trash==1.8.2 in c:\\users\\saraf\\appdata\\local\\programs\\python\\python310\\lib\\site-packages (from -r requirements.txt (line 163)) (1.8.2)\n",
      "Requirement already satisfied: shapely==2.0.1 in c:\\users\\saraf\\appdata\\local\\programs\\python\\python310\\lib\\site-packages (from -r requirements.txt (line 164)) (2.0.1)\n",
      "Requirement already satisfied: six==1.16.0 in c:\\users\\saraf\\appdata\\roaming\\python\\python310\\site-packages (from -r requirements.txt (line 165)) (1.16.0)\n",
      "Requirement already satisfied: sniffio==1.3.0 in c:\\users\\saraf\\appdata\\local\\programs\\python\\python310\\lib\\site-packages (from -r requirements.txt (line 166)) (1.3.0)\n",
      "Requirement already satisfied: snowballstemmer==2.2.0 in c:\\users\\saraf\\appdata\\local\\programs\\python\\python310\\lib\\site-packages (from -r requirements.txt (line 167)) (2.2.0)\n",
      "Requirement already satisfied: sortedcontainers==2.4.0 in c:\\users\\saraf\\appdata\\local\\programs\\python\\python310\\lib\\site-packages (from -r requirements.txt (line 168)) (2.4.0)\n",
      "Requirement already satisfied: soupsieve==2.4.1 in c:\\users\\saraf\\appdata\\local\\programs\\python\\python310\\lib\\site-packages (from -r requirements.txt (line 169)) (2.4.1)\n",
      "Requirement already satisfied: Sphinx==7.2.4 in c:\\users\\saraf\\appdata\\local\\programs\\python\\python310\\lib\\site-packages (from -r requirements.txt (line 170)) (7.2.4)\n",
      "Requirement already satisfied: sphinx-rtd-theme==1.3.0 in c:\\users\\saraf\\appdata\\local\\programs\\python\\python310\\lib\\site-packages (from -r requirements.txt (line 171)) (1.3.0)\n",
      "Requirement already satisfied: sphinxcontrib-applehelp==1.0.7 in c:\\users\\saraf\\appdata\\local\\programs\\python\\python310\\lib\\site-packages (from -r requirements.txt (line 172)) (1.0.7)\n",
      "Requirement already satisfied: sphinxcontrib-devhelp==1.0.5 in c:\\users\\saraf\\appdata\\local\\programs\\python\\python310\\lib\\site-packages (from -r requirements.txt (line 173)) (1.0.5)\n",
      "Requirement already satisfied: sphinxcontrib-htmlhelp==2.0.4 in c:\\users\\saraf\\appdata\\local\\programs\\python\\python310\\lib\\site-packages (from -r requirements.txt (line 174)) (2.0.4)\n",
      "Requirement already satisfied: sphinxcontrib-jquery==4.1 in c:\\users\\saraf\\appdata\\local\\programs\\python\\python310\\lib\\site-packages (from -r requirements.txt (line 175)) (4.1)\n",
      "Requirement already satisfied: sphinxcontrib-jsmath==1.0.1 in c:\\users\\saraf\\appdata\\local\\programs\\python\\python310\\lib\\site-packages (from -r requirements.txt (line 176)) (1.0.1)\n",
      "Requirement already satisfied: sphinxcontrib-qthelp==1.0.6 in c:\\users\\saraf\\appdata\\local\\programs\\python\\python310\\lib\\site-packages (from -r requirements.txt (line 177)) (1.0.6)\n",
      "Requirement already satisfied: sphinxcontrib-serializinghtml==1.1.9 in c:\\users\\saraf\\appdata\\local\\programs\\python\\python310\\lib\\site-packages (from -r requirements.txt (line 178)) (1.1.9)\n",
      "Requirement already satisfied: stack-data==0.6.2 in c:\\users\\saraf\\appdata\\roaming\\python\\python310\\site-packages (from -r requirements.txt (line 179)) (0.6.2)\n",
      "Requirement already satisfied: statsmodels==0.14.0 in c:\\users\\saraf\\appdata\\roaming\\python\\python310\\site-packages (from -r requirements.txt (line 180)) (0.14.0)\n",
      "Requirement already satisfied: tangled-up-in-unicode==0.2.0 in c:\\users\\saraf\\appdata\\local\\programs\\python\\python310\\lib\\site-packages (from -r requirements.txt (line 181)) (0.2.0)\n",
      "Requirement already satisfied: tensorboard==2.12.3 in c:\\users\\saraf\\appdata\\local\\programs\\python\\python310\\lib\\site-packages (from -r requirements.txt (line 182)) (2.12.3)\n",
      "Requirement already satisfied: tensorboard-data-server==0.7.0 in c:\\users\\saraf\\appdata\\local\\programs\\python\\python310\\lib\\site-packages (from -r requirements.txt (line 183)) (0.7.0)\n",
      "Requirement already satisfied: tensorflow==2.12.0 in c:\\users\\saraf\\appdata\\local\\programs\\python\\python310\\lib\\site-packages (from -r requirements.txt (line 184)) (2.12.0)\n",
      "Requirement already satisfied: tensorflow-estimator==2.12.0 in c:\\users\\saraf\\appdata\\local\\programs\\python\\python310\\lib\\site-packages (from -r requirements.txt (line 185)) (2.12.0)\n",
      "Requirement already satisfied: tensorflow-intel==2.12.0 in c:\\users\\saraf\\appdata\\local\\programs\\python\\python310\\lib\\site-packages (from -r requirements.txt (line 186)) (2.12.0)\n",
      "Requirement already satisfied: tensorflow-io-gcs-filesystem==0.31.0 in c:\\users\\saraf\\appdata\\local\\programs\\python\\python310\\lib\\site-packages (from -r requirements.txt (line 187)) (0.31.0)\n",
      "Requirement already satisfied: termcolor==2.3.0 in c:\\users\\saraf\\appdata\\local\\programs\\python\\python310\\lib\\site-packages (from -r requirements.txt (line 188)) (2.3.0)\n",
      "Requirement already satisfied: terminado==0.17.1 in c:\\users\\saraf\\appdata\\local\\programs\\python\\python310\\lib\\site-packages (from -r requirements.txt (line 189)) (0.17.1)\n",
      "Requirement already satisfied: testpath==0.6.0 in c:\\users\\saraf\\appdata\\local\\programs\\python\\python310\\lib\\site-packages (from -r requirements.txt (line 190)) (0.6.0)\n",
      "Requirement already satisfied: threadpoolctl==3.1.0 in c:\\users\\saraf\\appdata\\local\\programs\\python\\python310\\lib\\site-packages (from -r requirements.txt (line 191)) (3.1.0)\n",
      "Requirement already satisfied: tifffile==2023.8.12 in c:\\users\\saraf\\appdata\\local\\programs\\python\\python310\\lib\\site-packages (from -r requirements.txt (line 192)) (2023.8.12)\n",
      "Requirement already satisfied: tinycss2==1.2.1 in c:\\users\\saraf\\appdata\\local\\programs\\python\\python310\\lib\\site-packages (from -r requirements.txt (line 193)) (1.2.1)\n",
      "Requirement already satisfied: toml==0.10.2 in c:\\users\\saraf\\appdata\\local\\programs\\python\\python310\\lib\\site-packages (from -r requirements.txt (line 194)) (0.10.2)\n",
      "Requirement already satisfied: tomli==2.0.1 in c:\\users\\saraf\\appdata\\local\\programs\\python\\python310\\lib\\site-packages (from -r requirements.txt (line 195)) (2.0.1)\n",
      "Requirement already satisfied: tornado==6.3.2 in c:\\users\\saraf\\appdata\\roaming\\python\\python310\\site-packages (from -r requirements.txt (line 196)) (6.3.2)\n",
      "Requirement already satisfied: tqdm==4.65.0 in c:\\users\\saraf\\appdata\\local\\programs\\python\\python310\\lib\\site-packages (from -r requirements.txt (line 197)) (4.65.0)\n",
      "Requirement already satisfied: traitlets==5.9.0 in c:\\users\\saraf\\appdata\\roaming\\python\\python310\\site-packages (from -r requirements.txt (line 198)) (5.9.0)\n",
      "Requirement already satisfied: trio==0.22.2 in c:\\users\\saraf\\appdata\\local\\programs\\python\\python310\\lib\\site-packages (from -r requirements.txt (line 199)) (0.22.2)\n",
      "Requirement already satisfied: typeguard==2.13.3 in c:\\users\\saraf\\appdata\\local\\programs\\python\\python310\\lib\\site-packages (from -r requirements.txt (line 200)) (2.13.3)\n",
      "Requirement already satisfied: typing_extensions==4.6.3 in c:\\users\\saraf\\appdata\\local\\programs\\python\\python310\\lib\\site-packages (from -r requirements.txt (line 201)) (4.6.3)\n",
      "Requirement already satisfied: tzdata==2023.3 in c:\\users\\saraf\\appdata\\local\\programs\\python\\python310\\lib\\site-packages (from -r requirements.txt (line 202)) (2023.3)\n",
      "Requirement already satisfied: uri-template==1.3.0 in c:\\users\\saraf\\appdata\\local\\programs\\python\\python310\\lib\\site-packages (from -r requirements.txt (line 203)) (1.3.0)\n",
      "Requirement already satisfied: urllib3==1.26.16 in c:\\users\\saraf\\appdata\\local\\programs\\python\\python310\\lib\\site-packages (from -r requirements.txt (line 204)) (1.26.16)\n",
      "Requirement already satisfied: visions==0.7.5 in c:\\users\\saraf\\appdata\\roaming\\python\\python310\\site-packages (from -r requirements.txt (line 205)) (0.7.5)\n",
      "Requirement already satisfied: visualkeras==0.0.2 in c:\\users\\saraf\\appdata\\local\\programs\\python\\python310\\lib\\site-packages (from -r requirements.txt (line 206)) (0.0.2)\n",
      "Requirement already satisfied: wcwidth==0.2.6 in c:\\users\\saraf\\appdata\\roaming\\python\\python310\\site-packages (from -r requirements.txt (line 207)) (0.2.6)\n",
      "Requirement already satisfied: webcolors==1.13 in c:\\users\\saraf\\appdata\\local\\programs\\python\\python310\\lib\\site-packages (from -r requirements.txt (line 208)) (1.13)\n",
      "Requirement already satisfied: webencodings==0.5.1 in c:\\users\\saraf\\appdata\\local\\programs\\python\\python310\\lib\\site-packages (from -r requirements.txt (line 209)) (0.5.1)\n",
      "Requirement already satisfied: websocket-client==1.6.2 in c:\\users\\saraf\\appdata\\local\\programs\\python\\python310\\lib\\site-packages (from -r requirements.txt (line 210)) (1.6.2)\n",
      "Requirement already satisfied: Werkzeug==2.3.4 in c:\\users\\saraf\\appdata\\local\\programs\\python\\python310\\lib\\site-packages (from -r requirements.txt (line 211)) (2.3.4)\n",
      "Requirement already satisfied: widgetsnbextension==4.0.7 in c:\\users\\saraf\\appdata\\local\\programs\\python\\python310\\lib\\site-packages (from -r requirements.txt (line 212)) (4.0.7)\n",
      "Requirement already satisfied: wordcloud==1.9.2 in c:\\users\\saraf\\appdata\\roaming\\python\\python310\\site-packages (from -r requirements.txt (line 213)) (1.9.2)\n",
      "Requirement already satisfied: wrapt==1.14.1 in c:\\users\\saraf\\appdata\\local\\programs\\python\\python310\\lib\\site-packages (from -r requirements.txt (line 214)) (1.14.1)\n",
      "Requirement already satisfied: yarg==0.1.9 in c:\\users\\saraf\\appdata\\local\\programs\\python\\python310\\lib\\site-packages (from -r requirements.txt (line 215)) (0.1.9)\n",
      "Requirement already satisfied: ydata-profiling==4.2.0 in c:\\users\\saraf\\appdata\\roaming\\python\\python310\\site-packages (from -r requirements.txt (line 216)) (4.2.0)\n",
      "Requirement already satisfied: wheel<1.0,>=0.23.0 in c:\\users\\saraf\\appdata\\local\\programs\\python\\python310\\lib\\site-packages (from astunparse==1.6.3->-r requirements.txt (line 9)) (0.40.0)\n",
      "Requirement already satisfied: setuptools>=41.0.0 in c:\\users\\saraf\\appdata\\local\\programs\\python\\python310\\lib\\site-packages (from tensorboard==2.12.3->-r requirements.txt (line 182)) (57.4.0)\n",
      "Note: you may need to restart the kernel to use updated packages.\n"
     ]
    }
   ],
   "source": [
    "%pip freeze >requirements.txt\n",
    "%pip install -r requirements.txt"
   ]
  },
  {
   "cell_type": "code",
   "execution_count": 3,
   "metadata": {},
   "outputs": [],
   "source": [
    "import sys \n",
    "import os\n",
    "\n",
    "import numpy as np\n",
    "import cv2 as cv\n",
    "import tensorflow as tf\n",
    "import matplotlib\n",
    "import matplotlib.pyplot as plt\n",
    "import pandas as pd\n",
    "import skimage.io\n",
    "import cython\n",
    "import random\n",
    "import keras\n",
    "import h5py\n",
    "import pycocotools"
   ]
  },
  {
   "cell_type": "code",
   "execution_count": 4,
   "metadata": {},
   "outputs": [
    {
     "name": "stdout",
     "output_type": "stream",
     "text": [
      "2.12.0\n",
      "2.12.0\n"
     ]
    }
   ],
   "source": [
    "print(tf.__version__)\n",
    "print(keras.__version__)"
   ]
  },
  {
   "cell_type": "code",
   "execution_count": 5,
   "metadata": {},
   "outputs": [],
   "source": [
    "#Now we are sure for the existence of the libraries. We can safely proceed with importing them.\n",
    "# import numpy as np\n",
    "# import cv2 \n",
    "# import tensorflow as tf\n",
    "# import matplotlib as plt\n",
    "# import pandas as pd\n",
    "\n",
    "\n",
    "import warnings \n",
    "warnings.filterwarnings(\"ignore\")\n"
   ]
  },
  {
   "cell_type": "code",
   "execution_count": 6,
   "metadata": {},
   "outputs": [
    {
     "name": "stdout",
     "output_type": "stream",
     "text": [
      "Elapsed time is: 19.24 seconds\n"
     ]
    }
   ],
   "source": [
    "#Stop counting time see how much time it took for the libraries to get imported.\n",
    "timer.stop()"
   ]
  },
  {
   "cell_type": "code",
   "execution_count": 7,
   "metadata": {},
   "outputs": [
    {
     "data": {
      "text/plain": [
       "('c:\\\\Users\\\\saraf\\\\Project_Master_Thesis',\n",
       " 'c:\\\\Users\\\\saraf\\\\Project_Master_Thesis\\\\Project')"
      ]
     },
     "execution_count": 7,
     "metadata": {},
     "output_type": "execute_result"
    }
   ],
   "source": [
    "#Have a variable keep the root dir of the project and one for the current directory.\n",
    "root_dir = os.path.abspath(\"../\")\n",
    "cur_dir = os.getcwd()\n",
    "root_dir,cur_dir"
   ]
  },
  {
   "cell_type": "code",
   "execution_count": 8,
   "metadata": {},
   "outputs": [],
   "source": [
    "#Import the Mask RCNN 2.1 using the local version we downloaded from github\n",
    "lib_path = os.path.join(root_dir,\"mrcnn\")\n",
    "#print (f\"mrcnn path: {lib_path} \")\n",
    "sys.path.insert(1,lib_path) \n",
    "import utils\n",
    "import model as modellib\n",
    "import visualize\n"
   ]
  },
  {
   "cell_type": "code",
   "execution_count": 9,
   "metadata": {},
   "outputs": [],
   "source": [
    "#Import the coco directory\n",
    "import coco\n",
    "%matplotlib inline"
   ]
  },
  {
   "cell_type": "markdown",
   "metadata": {},
   "source": [
    "We will create different variables holding the paths towards important directories, such as logs and video/images for evaluation."
   ]
  },
  {
   "cell_type": "code",
   "execution_count": 10,
   "metadata": {},
   "outputs": [
    {
     "data": {
      "text/plain": [
       "'c:\\\\Users\\\\saraf\\\\Project_Master_Thesis\\\\logs'"
      ]
     },
     "execution_count": 10,
     "metadata": {},
     "output_type": "execute_result"
    }
   ],
   "source": [
    "#Log dir path and create the log directory\n",
    "log_dir = os.path.join(root_dir,\"logs\")\n",
    "os.makedirs(log_dir,exist_ok= True)\n",
    "log_dir"
   ]
  },
  {
   "cell_type": "code",
   "execution_count": 11,
   "metadata": {},
   "outputs": [
    {
     "data": {
      "text/plain": [
       "'mask_rcnn_coco.h5'"
      ]
     },
     "execution_count": 11,
     "metadata": {},
     "output_type": "execute_result"
    }
   ],
   "source": [
    "#local path for the rcnn coco weights\n",
    "coco_model_path = os.path.join('', \"mask_rcnn_coco.h5\")\n",
    "coco_model_path"
   ]
  },
  {
   "cell_type": "code",
   "execution_count": 12,
   "metadata": {},
   "outputs": [
    {
     "data": {
      "text/plain": [
       "'c:\\\\Users\\\\saraf\\\\Project_Master_Thesis\\\\evaluation_Images'"
      ]
     },
     "execution_count": 12,
     "metadata": {},
     "output_type": "execute_result"
    }
   ],
   "source": [
    "#path pointing at the images folder\n",
    "eva_image_dir = os.path.join(root_dir,\"evaluation_Images\")\n",
    "os.makedirs(eva_image_dir,exist_ok= True)\n",
    "eva_image_dir"
   ]
  },
  {
   "cell_type": "code",
   "execution_count": 13,
   "metadata": {},
   "outputs": [
    {
     "data": {
      "text/plain": [
       "'c:\\\\Users\\\\saraf\\\\Project_Master_Thesis\\\\evaluation_Video'"
      ]
     },
     "execution_count": 13,
     "metadata": {},
     "output_type": "execute_result"
    }
   ],
   "source": [
    "#same for evaluation video, since that's the end goal.\n",
    "eva_video_dir = os.path.join(root_dir,\"evaluation_Video\")\n",
    "os.makedirs(eva_video_dir,exist_ok= True)\n",
    "eva_video_dir"
   ]
  },
  {
   "cell_type": "code",
   "execution_count": 14,
   "metadata": {},
   "outputs": [],
   "source": [
    "#!tf_upgrade_v2  --intree C:\\Users\\saraf\\Project_Master_Thesis\\Project\\mrcnn --inplace --reportfile report.txt"
   ]
  },
  {
   "cell_type": "code",
   "execution_count": 15,
   "metadata": {},
   "outputs": [],
   "source": [
    "#create the inference class. We will use that to infer the Mask rcnn model.\n",
    "class InferenceConfig(coco.CocoConfig):\n",
    "    # Batch size =  GPU_Count * Images_per_GPU\n",
    "    # since we have 1 GPY and 1 image at the time both will be 1.\n",
    "    GPU_count = 1\n",
    "    image_per_GPU = 1\n"
   ]
  },
  {
   "cell_type": "code",
   "execution_count": 16,
   "metadata": {},
   "outputs": [
    {
     "name": "stdout",
     "output_type": "stream",
     "text": [
      "\n",
      "Configurations:\n",
      "BACKBONE                       resnet101\n",
      "BACKBONE_SHAPES                [[256 256]\n",
      " [128 128]\n",
      " [ 64  64]\n",
      " [ 32  32]\n",
      " [ 16  16]]\n",
      "BACKBONE_STRIDES               [4, 8, 16, 32, 64]\n",
      "BATCH_SIZE                     2\n",
      "BBOX_STD_DEV                   [0.1 0.1 0.2 0.2]\n",
      "DETECTION_MAX_INSTANCES        100\n",
      "DETECTION_MIN_CONFIDENCE       0.7\n",
      "DETECTION_NMS_THRESHOLD        0.3\n",
      "GPU_COUNT                      1\n",
      "GPU_count                      1\n",
      "IMAGES_PER_GPU                 2\n",
      "IMAGE_MAX_DIM                  1024\n",
      "IMAGE_MIN_DIM                  800\n",
      "IMAGE_PADDING                  True\n",
      "IMAGE_SHAPE                    [1024 1024    3]\n",
      "LEARNING_MOMENTUM              0.9\n",
      "LEARNING_RATE                  0.001\n",
      "MASK_POOL_SIZE                 14\n",
      "MASK_SHAPE                     [28, 28]\n",
      "MAX_GT_INSTANCES               100\n",
      "MEAN_PIXEL                     [123.7 116.8 103.9]\n",
      "MINI_MASK_SHAPE                (56, 56)\n",
      "NAME                           coco\n",
      "NUM_CLASSES                    81\n",
      "POOL_SIZE                      7\n",
      "POST_NMS_ROIS_INFERENCE        1000\n",
      "POST_NMS_ROIS_TRAINING         2000\n",
      "ROI_POSITIVE_RATIO             0.33\n",
      "RPN_ANCHOR_RATIOS              [0.5, 1, 2]\n",
      "RPN_ANCHOR_SCALES              (32, 64, 128, 256, 512)\n",
      "RPN_ANCHOR_STRIDE              1\n",
      "RPN_BBOX_STD_DEV               [0.1 0.1 0.2 0.2]\n",
      "RPN_NMS_THRESHOLD              0.7\n",
      "RPN_TRAIN_ANCHORS_PER_IMAGE    256\n",
      "STEPS_PER_EPOCH                1000\n",
      "TRAIN_ROIS_PER_IMAGE           200\n",
      "USE_MINI_MASK                  True\n",
      "USE_RPN_ROIS                   True\n",
      "VALIDATION_STEPS               50\n",
      "WEIGHT_DECAY                   0.0001\n",
      "image_per_GPU                  1\n",
      "\n",
      "\n"
     ]
    }
   ],
   "source": [
    "#Supposing all went well we should be able to successfully infer our model\n",
    "config =  InferenceConfig()\n",
    "config.display()"
   ]
  },
  {
   "cell_type": "markdown",
   "metadata": {},
   "source": [
    "### We have sucessfully infered the Mask R-Cnn archetype\n",
    "Above we have a list of all hyper parameters of the model. Most important among them are, the shape of Mask [28,28] which instead of [256,256] because it is trained in the COCO dataset. The possible class predictions are 81. What we are interested in is car classification in our images."
   ]
  },
  {
   "cell_type": "code",
   "execution_count": 19,
   "metadata": {},
   "outputs": [
    {
     "ename": "ValueError",
     "evalue": "Exception encountered when calling layer \"mrcnn_detection\" (type DetectionLayer).\n\nin user code:\n\n    File \"c:\\Users\\saraf\\Project_Master_Thesis\\mrcnn\\model.py\", line 794, in call  *\n        detections_batch = utils.batch_slice(\n    File \"c:\\Users\\saraf\\Project_Master_Thesis\\mrcnn\\utils.py\", line 699, in batch_slice  *\n        output_slice = graph_fn(*inputs_slice)\n    File \"c:\\Users\\saraf\\Project_Master_Thesis\\mrcnn\\model.py\", line 687, in refine_detections_graph  *\n        indices = tf.stack([tf.range(probs.shape[0]), class_ids], axis=1)\n\n    ValueError: None values not supported.\n\n\nCall arguments received by layer \"mrcnn_detection\" (type DetectionLayer):\n  • inputs=['tf.Tensor(shape=(2, None, 4), dtype=float32)', 'tf.Tensor(shape=(1, None, 81), dtype=float32)', 'tf.Tensor(shape=(1, None, 81, 4), dtype=float32)', 'tf.Tensor(shape=(None, None), dtype=float32)']",
     "output_type": "error",
     "traceback": [
      "\u001b[1;31m---------------------------------------------------------------------------\u001b[0m",
      "\u001b[1;31mValueError\u001b[0m                                Traceback (most recent call last)",
      "Cell \u001b[1;32mIn[19], line 7\u001b[0m\n\u001b[0;32m      1\u001b[0m \u001b[39m#Create the model object \u001b[39;00m\n\u001b[0;32m      2\u001b[0m \u001b[39m\"\"\"\u001b[39;00m\n\u001b[0;32m      3\u001b[0m \u001b[39m        mode: Either \"training\" or \"inference\"\u001b[39;00m\n\u001b[0;32m      4\u001b[0m \u001b[39m        config: A Sub-class of the Config class\u001b[39;00m\n\u001b[0;32m      5\u001b[0m \u001b[39m        model_dir: Directory to save training logs and trained weights\u001b[39;00m\n\u001b[0;32m      6\u001b[0m \u001b[39m\"\"\"\u001b[39;00m\n\u001b[1;32m----> 7\u001b[0m model \u001b[39m=\u001b[39m modellib\u001b[39m.\u001b[39;49mMaskRCNN(mode \u001b[39m=\u001b[39;49m \u001b[39m\"\u001b[39;49m\u001b[39minference\u001b[39;49m\u001b[39m\"\u001b[39;49m, model_dir\u001b[39m=\u001b[39;49m\u001b[39m\"\u001b[39;49m\u001b[39mour_model.hy\u001b[39;49m\u001b[39m\"\u001b[39;49m, config \u001b[39m=\u001b[39;49m config)\n",
      "File \u001b[1;32mc:\\Users\\saraf\\Project_Master_Thesis\\mrcnn\\model.py:1770\u001b[0m, in \u001b[0;36mMaskRCNN.__init__\u001b[1;34m(self, mode, config, model_dir)\u001b[0m\n\u001b[0;32m   1768\u001b[0m \u001b[39mself\u001b[39m\u001b[39m.\u001b[39mmodel_dir \u001b[39m=\u001b[39m model_dir\n\u001b[0;32m   1769\u001b[0m \u001b[39mself\u001b[39m\u001b[39m.\u001b[39mset_log_dir()\n\u001b[1;32m-> 1770\u001b[0m \u001b[39mself\u001b[39m\u001b[39m.\u001b[39mkeras_model \u001b[39m=\u001b[39m \u001b[39mself\u001b[39;49m\u001b[39m.\u001b[39;49mbuild(mode\u001b[39m=\u001b[39;49mmode, config\u001b[39m=\u001b[39;49mconfig)\n",
      "File \u001b[1;32mc:\\Users\\saraf\\Project_Master_Thesis\\mrcnn\\model.py:1957\u001b[0m, in \u001b[0;36mMaskRCNN.build\u001b[1;34m(self, mode, config)\u001b[0m\n\u001b[0;32m   1951\u001b[0m mrcnn_class_logits, mrcnn_class, mrcnn_bbox \u001b[39m=\u001b[39m\\\n\u001b[0;32m   1952\u001b[0m     fpn_classifier_graph(rpn_rois, mrcnn_feature_maps, config\u001b[39m.\u001b[39mIMAGE_SHAPE,\n\u001b[0;32m   1953\u001b[0m                          config\u001b[39m.\u001b[39mPOOL_SIZE, config\u001b[39m.\u001b[39mNUM_CLASSES)\n\u001b[0;32m   1955\u001b[0m \u001b[39m# Detections\u001b[39;00m\n\u001b[0;32m   1956\u001b[0m \u001b[39m# output is [batch, num_detections, (y1, x1, y2, x2, class_id, score)] in image coordinates\u001b[39;00m\n\u001b[1;32m-> 1957\u001b[0m detections \u001b[39m=\u001b[39m DetectionLayer(config, name\u001b[39m=\u001b[39;49m\u001b[39m\"\u001b[39;49m\u001b[39mmrcnn_detection\u001b[39;49m\u001b[39m\"\u001b[39;49m)(\n\u001b[0;32m   1958\u001b[0m     [rpn_rois, mrcnn_class, mrcnn_bbox, input_image_meta])\n\u001b[0;32m   1960\u001b[0m \u001b[39m# Convert boxes to normalized coordinates\u001b[39;00m\n\u001b[0;32m   1961\u001b[0m \u001b[39m# TODO: let DetectionLayer return normalized coordinates to avoid\u001b[39;00m\n\u001b[0;32m   1962\u001b[0m \u001b[39m#       unnecessary conversions\u001b[39;00m\n\u001b[0;32m   1963\u001b[0m h, w \u001b[39m=\u001b[39m config\u001b[39m.\u001b[39mIMAGE_SHAPE[:\u001b[39m2\u001b[39m]\n",
      "File \u001b[1;32mc:\\Users\\saraf\\AppData\\Local\\Programs\\Python\\Python310\\lib\\site-packages\\keras\\utils\\traceback_utils.py:70\u001b[0m, in \u001b[0;36mfilter_traceback.<locals>.error_handler\u001b[1;34m(*args, **kwargs)\u001b[0m\n\u001b[0;32m     67\u001b[0m     filtered_tb \u001b[39m=\u001b[39m _process_traceback_frames(e\u001b[39m.\u001b[39m__traceback__)\n\u001b[0;32m     68\u001b[0m     \u001b[39m# To get the full stack trace, call:\u001b[39;00m\n\u001b[0;32m     69\u001b[0m     \u001b[39m# `tf.debugging.disable_traceback_filtering()`\u001b[39;00m\n\u001b[1;32m---> 70\u001b[0m     \u001b[39mraise\u001b[39;00m e\u001b[39m.\u001b[39mwith_traceback(filtered_tb) \u001b[39mfrom\u001b[39;00m \u001b[39mNone\u001b[39;00m\n\u001b[0;32m     71\u001b[0m \u001b[39mfinally\u001b[39;00m:\n\u001b[0;32m     72\u001b[0m     \u001b[39mdel\u001b[39;00m filtered_tb\n",
      "File \u001b[1;32m~\\AppData\\Local\\Temp\\__autograph_generated_file7szol7qs.py:15\u001b[0m, in \u001b[0;36mouter_factory.<locals>.inner_factory.<locals>.tf__call\u001b[1;34m(self, inputs)\u001b[0m\n\u001b[0;32m     13\u001b[0m image_meta \u001b[39m=\u001b[39m ag__\u001b[39m.\u001b[39mld(inputs)[\u001b[39m3\u001b[39m]\n\u001b[0;32m     14\u001b[0m (_, _, window, _) \u001b[39m=\u001b[39m ag__\u001b[39m.\u001b[39mconverted_call(ag__\u001b[39m.\u001b[39mld(parse_image_meta_graph), (ag__\u001b[39m.\u001b[39mld(image_meta),), \u001b[39mNone\u001b[39;00m, fscope)\n\u001b[1;32m---> 15\u001b[0m detections_batch \u001b[39m=\u001b[39m ag__\u001b[39m.\u001b[39;49mconverted_call(ag__\u001b[39m.\u001b[39;49mld(utils)\u001b[39m.\u001b[39;49mbatch_slice, ([ag__\u001b[39m.\u001b[39;49mld(rois), ag__\u001b[39m.\u001b[39;49mld(mrcnn_class), ag__\u001b[39m.\u001b[39;49mld(mrcnn_bbox), ag__\u001b[39m.\u001b[39;49mld(window)], ag__\u001b[39m.\u001b[39;49mautograph_artifact(\u001b[39mlambda\u001b[39;49;00m x, y, w, z: ag__\u001b[39m.\u001b[39;49mconverted_call(ag__\u001b[39m.\u001b[39;49mld(refine_detections_graph), (ag__\u001b[39m.\u001b[39;49mld(x), ag__\u001b[39m.\u001b[39;49mld(y), ag__\u001b[39m.\u001b[39;49mld(w), ag__\u001b[39m.\u001b[39;49mld(z), ag__\u001b[39m.\u001b[39;49mld(\u001b[39mself\u001b[39;49m)\u001b[39m.\u001b[39;49mconfig), \u001b[39mNone\u001b[39;49;00m, fscope)), ag__\u001b[39m.\u001b[39;49mld(\u001b[39mself\u001b[39;49m)\u001b[39m.\u001b[39;49mconfig\u001b[39m.\u001b[39;49mIMAGES_PER_GPU), \u001b[39mNone\u001b[39;49;00m, fscope)\n\u001b[0;32m     16\u001b[0m \u001b[39mtry\u001b[39;00m:\n\u001b[0;32m     17\u001b[0m     do_return \u001b[39m=\u001b[39m \u001b[39mTrue\u001b[39;00m\n",
      "File \u001b[1;32m~\\AppData\\Local\\Temp\\__autograph_generated_fileoa2djwlm.py:68\u001b[0m, in \u001b[0;36mouter_factory.<locals>.inner_factory.<locals>.tf__batch_slice\u001b[1;34m(inputs, graph_fn, batch_size, names)\u001b[0m\n\u001b[0;32m     66\u001b[0m i \u001b[39m=\u001b[39m ag__\u001b[39m.\u001b[39mUndefined(\u001b[39m'\u001b[39m\u001b[39mi\u001b[39m\u001b[39m'\u001b[39m)\n\u001b[0;32m     67\u001b[0m inputs_slice \u001b[39m=\u001b[39m ag__\u001b[39m.\u001b[39mUndefined(\u001b[39m'\u001b[39m\u001b[39minputs_slice\u001b[39m\u001b[39m'\u001b[39m)\n\u001b[1;32m---> 68\u001b[0m ag__\u001b[39m.\u001b[39;49mfor_stmt(ag__\u001b[39m.\u001b[39;49mconverted_call(ag__\u001b[39m.\u001b[39;49mld(\u001b[39mrange\u001b[39;49m), (ag__\u001b[39m.\u001b[39;49mld(batch_size),), \u001b[39mNone\u001b[39;49;00m, fscope), \u001b[39mNone\u001b[39;49;00m, loop_body, get_state_2, set_state_2, (), {\u001b[39m'\u001b[39;49m\u001b[39miterate_names\u001b[39;49m\u001b[39m'\u001b[39;49m: \u001b[39m'\u001b[39;49m\u001b[39mi\u001b[39;49m\u001b[39m'\u001b[39;49m})\n\u001b[0;32m     69\u001b[0m outputs \u001b[39m=\u001b[39m ag__\u001b[39m.\u001b[39mconverted_call(ag__\u001b[39m.\u001b[39mld(\u001b[39mlist\u001b[39m), (ag__\u001b[39m.\u001b[39mconverted_call(ag__\u001b[39m.\u001b[39mld(\u001b[39mzip\u001b[39m), \u001b[39mtuple\u001b[39m(ag__\u001b[39m.\u001b[39mld(outputs)), \u001b[39mNone\u001b[39;00m, fscope),), \u001b[39mNone\u001b[39;00m, fscope)\n\u001b[0;32m     71\u001b[0m \u001b[39mdef\u001b[39;00m \u001b[39mget_state_3\u001b[39m():\n",
      "File \u001b[1;32m~\\AppData\\Local\\Temp\\__autograph_generated_fileoa2djwlm.py:47\u001b[0m, in \u001b[0;36mouter_factory.<locals>.inner_factory.<locals>.tf__batch_slice.<locals>.loop_body\u001b[1;34m(itr)\u001b[0m\n\u001b[0;32m     45\u001b[0m i \u001b[39m=\u001b[39m itr\n\u001b[0;32m     46\u001b[0m inputs_slice \u001b[39m=\u001b[39m [ag__\u001b[39m.\u001b[39mld(x)[ag__\u001b[39m.\u001b[39mld(i)] \u001b[39mfor\u001b[39;00m x \u001b[39min\u001b[39;00m ag__\u001b[39m.\u001b[39mld(inputs)]\n\u001b[1;32m---> 47\u001b[0m output_slice \u001b[39m=\u001b[39m ag__\u001b[39m.\u001b[39;49mconverted_call(ag__\u001b[39m.\u001b[39;49mld(graph_fn), \u001b[39mtuple\u001b[39;49m(ag__\u001b[39m.\u001b[39;49mld(inputs_slice)), \u001b[39mNone\u001b[39;49;00m, fscope)\n\u001b[0;32m     49\u001b[0m \u001b[39mdef\u001b[39;00m \u001b[39mget_state_1\u001b[39m():\n\u001b[0;32m     50\u001b[0m     \u001b[39mreturn\u001b[39;00m (output_slice,)\n",
      "File \u001b[1;32m~\\AppData\\Local\\Temp\\__autograph_generated_file7szol7qs.py:15\u001b[0m, in \u001b[0;36mouter_factory.<locals>.inner_factory.<locals>.tf__call.<locals>.<lambda>\u001b[1;34m(x, y, w, z)\u001b[0m\n\u001b[0;32m     13\u001b[0m image_meta \u001b[39m=\u001b[39m ag__\u001b[39m.\u001b[39mld(inputs)[\u001b[39m3\u001b[39m]\n\u001b[0;32m     14\u001b[0m (_, _, window, _) \u001b[39m=\u001b[39m ag__\u001b[39m.\u001b[39mconverted_call(ag__\u001b[39m.\u001b[39mld(parse_image_meta_graph), (ag__\u001b[39m.\u001b[39mld(image_meta),), \u001b[39mNone\u001b[39;00m, fscope)\n\u001b[1;32m---> 15\u001b[0m detections_batch \u001b[39m=\u001b[39m ag__\u001b[39m.\u001b[39mconverted_call(ag__\u001b[39m.\u001b[39mld(utils)\u001b[39m.\u001b[39mbatch_slice, ([ag__\u001b[39m.\u001b[39mld(rois), ag__\u001b[39m.\u001b[39mld(mrcnn_class), ag__\u001b[39m.\u001b[39mld(mrcnn_bbox), ag__\u001b[39m.\u001b[39mld(window)], ag__\u001b[39m.\u001b[39mautograph_artifact(\u001b[39mlambda\u001b[39;00m x, y, w, z: ag__\u001b[39m.\u001b[39;49mconverted_call(ag__\u001b[39m.\u001b[39;49mld(refine_detections_graph), (ag__\u001b[39m.\u001b[39;49mld(x), ag__\u001b[39m.\u001b[39;49mld(y), ag__\u001b[39m.\u001b[39;49mld(w), ag__\u001b[39m.\u001b[39;49mld(z), ag__\u001b[39m.\u001b[39;49mld(\u001b[39mself\u001b[39;49m)\u001b[39m.\u001b[39;49mconfig), \u001b[39mNone\u001b[39;49;00m, fscope)), ag__\u001b[39m.\u001b[39mld(\u001b[39mself\u001b[39m)\u001b[39m.\u001b[39mconfig\u001b[39m.\u001b[39mIMAGES_PER_GPU), \u001b[39mNone\u001b[39;00m, fscope)\n\u001b[0;32m     16\u001b[0m \u001b[39mtry\u001b[39;00m:\n\u001b[0;32m     17\u001b[0m     do_return \u001b[39m=\u001b[39m \u001b[39mTrue\u001b[39;00m\n",
      "File \u001b[1;32m~\\AppData\\Local\\Temp\\__autograph_generated_file0hy89p8d.py:25\u001b[0m, in \u001b[0;36mouter_factory.<locals>.inner_factory.<locals>.tf__refine_detections_graph\u001b[1;34m(rois, probs, deltas, window, config)\u001b[0m\n\u001b[0;32m     23\u001b[0m retval_ \u001b[39m=\u001b[39m ag__\u001b[39m.\u001b[39mUndefinedReturnValue()\n\u001b[0;32m     24\u001b[0m class_ids \u001b[39m=\u001b[39m ag__\u001b[39m.\u001b[39mconverted_call(ag__\u001b[39m.\u001b[39mld(tf)\u001b[39m.\u001b[39margmax, (ag__\u001b[39m.\u001b[39mld(probs),), \u001b[39mdict\u001b[39m(axis\u001b[39m=\u001b[39m\u001b[39m1\u001b[39m, output_type\u001b[39m=\u001b[39mag__\u001b[39m.\u001b[39mld(tf)\u001b[39m.\u001b[39mint32), fscope)\n\u001b[1;32m---> 25\u001b[0m indices \u001b[39m=\u001b[39m ag__\u001b[39m.\u001b[39mconverted_call(ag__\u001b[39m.\u001b[39mld(tf)\u001b[39m.\u001b[39mstack, ([ag__\u001b[39m.\u001b[39;49mconverted_call(ag__\u001b[39m.\u001b[39;49mld(tf)\u001b[39m.\u001b[39;49mrange, (ag__\u001b[39m.\u001b[39;49mld(probs)\u001b[39m.\u001b[39;49mshape[\u001b[39m0\u001b[39;49m],), \u001b[39mNone\u001b[39;49;00m, fscope), ag__\u001b[39m.\u001b[39mld(class_ids)],), \u001b[39mdict\u001b[39m(axis\u001b[39m=\u001b[39m\u001b[39m1\u001b[39m), fscope)\n\u001b[0;32m     26\u001b[0m class_scores \u001b[39m=\u001b[39m ag__\u001b[39m.\u001b[39mconverted_call(ag__\u001b[39m.\u001b[39mld(tf)\u001b[39m.\u001b[39mgather_nd, (ag__\u001b[39m.\u001b[39mld(probs), ag__\u001b[39m.\u001b[39mld(indices)), \u001b[39mNone\u001b[39;00m, fscope)\n\u001b[0;32m     27\u001b[0m deltas_specific \u001b[39m=\u001b[39m ag__\u001b[39m.\u001b[39mconverted_call(ag__\u001b[39m.\u001b[39mld(tf)\u001b[39m.\u001b[39mgather_nd, (ag__\u001b[39m.\u001b[39mld(deltas), ag__\u001b[39m.\u001b[39mld(indices)), \u001b[39mNone\u001b[39;00m, fscope)\n",
      "\u001b[1;31mValueError\u001b[0m: Exception encountered when calling layer \"mrcnn_detection\" (type DetectionLayer).\n\nin user code:\n\n    File \"c:\\Users\\saraf\\Project_Master_Thesis\\mrcnn\\model.py\", line 794, in call  *\n        detections_batch = utils.batch_slice(\n    File \"c:\\Users\\saraf\\Project_Master_Thesis\\mrcnn\\utils.py\", line 699, in batch_slice  *\n        output_slice = graph_fn(*inputs_slice)\n    File \"c:\\Users\\saraf\\Project_Master_Thesis\\mrcnn\\model.py\", line 687, in refine_detections_graph  *\n        indices = tf.stack([tf.range(probs.shape[0]), class_ids], axis=1)\n\n    ValueError: None values not supported.\n\n\nCall arguments received by layer \"mrcnn_detection\" (type DetectionLayer):\n  • inputs=['tf.Tensor(shape=(2, None, 4), dtype=float32)', 'tf.Tensor(shape=(1, None, 81), dtype=float32)', 'tf.Tensor(shape=(1, None, 81, 4), dtype=float32)', 'tf.Tensor(shape=(None, None), dtype=float32)']"
     ]
    }
   ],
   "source": [
    "#Create the model object \n",
    "\"\"\"\n",
    "        mode: Either \"training\" or \"inference\"\n",
    "        config: A Sub-class of the Config class\n",
    "        model_dir: Directory to save training logs and trained weights\n",
    "\"\"\"\n",
    "model = modellib.MaskRCNN(mode = \"inference\", model_dir=\"our_model.hy\", config = config)"
   ]
  },
  {
   "cell_type": "code",
   "execution_count": null,
   "metadata": {},
   "outputs": [],
   "source": [
    "#Lets load the pre-trained weights\n",
    "model.load_weights('mask_rcnn_coco.h5', by_name =True)"
   ]
  },
  {
   "cell_type": "code",
   "execution_count": null,
   "metadata": {},
   "outputs": [],
   "source": [
    "# end the time\n",
    "timer.stop()"
   ]
  }
 ],
 "metadata": {
  "kernelspec": {
   "display_name": "Python 3",
   "language": "python",
   "name": "python3"
  },
  "language_info": {
   "codemirror_mode": {
    "name": "ipython",
    "version": 3
   },
   "file_extension": ".py",
   "mimetype": "text/x-python",
   "name": "python",
   "nbconvert_exporter": "python",
   "pygments_lexer": "ipython3",
   "version": "3.10.0"
  },
  "orig_nbformat": 4
 },
 "nbformat": 4,
 "nbformat_minor": 2
}
