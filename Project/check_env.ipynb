{
 "cells": [
  {
   "cell_type": "code",
   "execution_count": 28,
   "metadata": {},
   "outputs": [],
   "source": [
    "def check_env():\n",
    "    \"\"\"\n",
    "    In this function we will import all the necessary libraries and objects that we will use in our programm.If all exist, the program will continue its execution, otherwise it will try to install them all. \n",
    "    \"\"\"\n",
    "    try:\n",
    "        import numpy as np\n",
    "        import cv2 as cv\n",
    "        import tensorflow as tf\n",
    "        import matplotlib\n",
    "        import matplotlib.pyplot as plt\n",
    "        import pandas as pd\n",
    "        import skimage.io\n",
    "        import cython\n",
    "        import random\n",
    "        import keras\n",
    "        import h5py\n",
    "        import pycocotools\n",
    "\n",
    "\n",
    "    except ModuleNotFoundError or ImportError:\n",
    "        print(\"Some modules were not found. Downloading . . .\\n\")\n",
    "        %pip install numpy\n",
    "        %pip install opencv-python\n",
    "        %pip install tensorflow\n",
    "        %pip install matplotlib\n",
    "        %pip install pandas\n",
    "        %pip install cython\n",
    "        %pip install -U scikit-image\n",
    "        %pip install keras\n",
    "        %pip install h5py\n",
    "        %pip install pycocotools"
   ]
  }
 ],
 "metadata": {
  "kernelspec": {
   "display_name": "Python 3",
   "language": "python",
   "name": "python3"
  },
  "language_info": {
   "codemirror_mode": {
    "name": "ipython",
    "version": 3
   },
   "file_extension": ".py",
   "mimetype": "text/x-python",
   "name": "python",
   "nbconvert_exporter": "python",
   "pygments_lexer": "ipython3",
   "version": "3.10.0"
  },
  "orig_nbformat": 4
 },
 "nbformat": 4,
 "nbformat_minor": 2
}
