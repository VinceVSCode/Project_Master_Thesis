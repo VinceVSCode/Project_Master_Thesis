{
 "cells": [
  {
   "cell_type": "code",
   "execution_count": null,
   "metadata": {},
   "outputs": [],
   "source": [
    "def check_env():\n",
    "    \"\"\"\n",
    "    In this function we will import all the necessary libraries and objects that we will use in our programm.If all exist, the program will continue its execution, otherwise it will try to install them all. \n",
    "    \"\"\"\n",
    "    try:\n",
    "        import numpy as np\n",
    "        import cv2 as cv\n",
    "        import tensorflow as tf\n",
    "        import matplotlib as plt\n",
    "        \n",
    "\n",
    "    except ModuleNotFoundError or ImportError:\n",
    "        print(\"Some modules were not found. Downloading . . .\\n\")\n",
    "        %pip install numpy\n",
    "        %pip install cv2\n",
    "        %pip install tensorflow\n",
    "        %pip install matplotlib\n"
   ]
  }
 ],
 "metadata": {
  "kernelspec": {
   "display_name": "Python 3",
   "language": "python",
   "name": "python3"
  },
  "language_info": {
   "name": "python",
   "version": "3.10.0"
  },
  "orig_nbformat": 4
 },
 "nbformat": 4,
 "nbformat_minor": 2
}
